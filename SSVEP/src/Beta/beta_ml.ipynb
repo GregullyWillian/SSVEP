{
 "cells": [
  {
   "cell_type": "markdown",
   "metadata": {},
   "source": [
    "## Análise da base de dados `Beta` utilizando algoritmos de ML\n",
    "\n",
    "Neste notebook será analisado o `Beta dataset` utilizando algoritmos de ML para realizar a (1) extração de características, (2) seleção de características e (3) classificação dos dados\n",
    "\n",
    "### Pontos importantes do dataset\n",
    "\n",
    "- Frequências estimuladas (total de 40, com a diferença de 0.2 Hz uma da outra): 8.0, 8.2, ..., 15.6, 15.8;\n",
    "- Taxa de amostragem: 250 Hz"
   ]
  },
  {
   "cell_type": "markdown",
   "metadata": {},
   "source": [
    "### Analisar os \"momentos\" em que ocorrem evocação do sinal SSVEP\n",
    "\n",
    "1. Criar o objeto `MNE` a partir dos dados dados do participante;\n",
    "2. Aplicar no objeto `MNE` o filtro passa-faixa nos valores de 6 - 18 Hz;\n",
    "3. Criar cópias do objeto `MNE` com fatias de tempo menores para analisar momentos que ocorrem estimulos ou não (verificar artigo);\n",
    "    a) 0.0 - 0.5 segundos e 2.5 - 3.0 segundos ocorre apenas ruído;\n",
    "    b) 0.5 - 2.5 segundos ocorre sinal SSVEP (com ruídos)\n",
    "4. Com os sinais separados em objetos `MNE`, aplicar a `FFT`, para que seja possível plotar gráficos que contenham (ou não) as informações.\n",
    "    - Os dados devem ser plotados no domínio da frequência (após a transformada de Fourier). O FFT pode ser realizado pela biblioteca `scipy.fft`.\n",
    "    - Deve ser observado que as janelas (a) com ruído não aparecerão de fato o sinal SSVEP."
   ]
  },
  {
   "cell_type": "markdown",
   "metadata": {},
   "source": [
    "### Extração de características\n",
    "\n",
    "Uma característica importante de acordo com o artigo base do dataset `BETA` é o *signal-to-noise ratio* (SNR).\n",
    "São dois tipos de características SNR que podem ser implementadas: SNR de banda estreita (`narrow-SNR`) e SNR de banda larga (`wide-band SNR`).\n",
    "\n",
    "Uma boa prática, é considerar o ruído das medidas de `SNR`, uma vez que os dados `SSVEP` não estão estimulados durante os períodos de 0 a 0,5 segundos e de 2,5 a 3 segundos. O ruído pode afetar a precisão das medidas de `SNR` e, portanto, é aconselhável levar isso em consideração.\n",
    "\n",
    "Vamos realizar todos esses cálculos com dados fictícios:"
   ]
  },
  {
   "cell_type": "markdown",
   "metadata": {},
   "source": [
    "# Carregando os dados"
   ]
  },
  {
   "cell_type": "code",
   "execution_count": 1,
   "metadata": {},
   "outputs": [],
   "source": [
    "%matplotlib inline\n",
    "import numpy as np\n",
    "from sklearn.preprocessing import LabelEncoder\n",
    "import mne\n",
    "from sklearn.preprocessing import LabelEncoder\n",
    "from sklearn.model_selection import train_test_split, GridSearchCV, StratifiedKFold\n",
    "from sklearn.preprocessing import StandardScaler, LabelEncoder\n",
    "from sklearn.svm import SVC\n",
    "from sklearn import svm\n",
    "from copy import deepcopy\n",
    "from scipy.io import loadmat\n",
    "from sklearn.metrics import accuracy_score, f1_score\n",
    "from sklearn.feature_selection import RFECV\n",
    "from joblib import Parallel, delayed\n",
    "import itertools"
   ]
  },
  {
   "cell_type": "markdown",
   "metadata": {},
   "source": [
    "Carregando dados"
   ]
  },
  {
   "cell_type": "code",
   "execution_count": 40,
   "metadata": {},
   "outputs": [
    {
     "name": "stdout",
     "output_type": "stream",
     "text": [
      "(64, 750, 160) (160,)\n"
     ]
    }
   ],
   "source": [
    "data = loadmat(f\"../../dataset/beta/S12.mat\")['data'][0][0]\n",
    "eeg_data = data[0]\n",
    "eeg = eeg_data.reshape(eeg_data.shape[0], eeg_data.shape[1], eeg_data.shape[2] * eeg_data.shape[3])\n",
    "labels = np.array(list(data[1]['freqs'][0][0].flatten()) * 4)\n",
    "print(eeg.shape, labels.shape)"
   ]
  },
  {
   "cell_type": "code",
   "execution_count": 42,
   "metadata": {},
   "outputs": [
    {
     "data": {
      "text/plain": [
       "array([ 8.6,  8.8,  9. ,  9.2,  9.4,  9.6,  9.8, 10. , 10.2, 10.4, 10.6,\n",
       "       10.8, 11. , 11.2, 11.4, 11.6, 11.8, 12. , 12.2, 12.4, 12.6, 12.8,\n",
       "       13. , 13.2, 13.4, 13.6, 13.8, 14. , 14.2, 14.4, 14.6, 14.8, 15. ,\n",
       "       15.2, 15.4, 15.6, 15.8,  8. ,  8.2,  8.4,  8.6,  8.8,  9. ,  9.2,\n",
       "        9.4,  9.6,  9.8, 10. , 10.2, 10.4, 10.6, 10.8, 11. , 11.2, 11.4,\n",
       "       11.6, 11.8, 12. , 12.2, 12.4, 12.6, 12.8, 13. , 13.2, 13.4, 13.6,\n",
       "       13.8, 14. , 14.2, 14.4, 14.6, 14.8, 15. , 15.2, 15.4, 15.6, 15.8,\n",
       "        8. ,  8.2,  8.4,  8.6,  8.8,  9. ,  9.2,  9.4,  9.6,  9.8, 10. ,\n",
       "       10.2, 10.4, 10.6, 10.8, 11. , 11.2, 11.4, 11.6, 11.8, 12. , 12.2,\n",
       "       12.4, 12.6, 12.8, 13. , 13.2, 13.4, 13.6, 13.8, 14. , 14.2, 14.4,\n",
       "       14.6, 14.8, 15. , 15.2, 15.4, 15.6, 15.8,  8. ,  8.2,  8.4,  8.6,\n",
       "        8.8,  9. ,  9.2,  9.4,  9.6,  9.8, 10. , 10.2, 10.4, 10.6, 10.8,\n",
       "       11. , 11.2, 11.4, 11.6, 11.8, 12. , 12.2, 12.4, 12.6, 12.8, 13. ,\n",
       "       13.2, 13.4, 13.6, 13.8, 14. , 14.2, 14.4, 14.6, 14.8, 15. , 15.2,\n",
       "       15.4, 15.6, 15.8,  8. ,  8.2,  8.4])"
      ]
     },
     "execution_count": 42,
     "metadata": {},
     "output_type": "execute_result"
    }
   ],
   "source": [
    "labels"
   ]
  },
  {
   "cell_type": "code",
   "execution_count": 43,
   "metadata": {},
   "outputs": [
    {
     "name": "stdout",
     "output_type": "stream",
     "text": [
      "(160, 64, 750)\n"
     ]
    }
   ],
   "source": [
    "data_correct = eeg.swapaxes(0, 2)\n",
    "data_correct = data_correct.swapaxes(1, 2)\n",
    "print(data_correct.shape)"
   ]
  },
  {
   "cell_type": "markdown",
   "metadata": {},
   "source": [
    "Agora iremos estimar o ruído de fundo, para calcular posteriormente o `narrow SNR` e o `wide-band SNR`. "
   ]
  },
  {
   "cell_type": "code",
   "execution_count": 47,
   "metadata": {},
   "outputs": [
    {
     "name": "stdout",
     "output_type": "stream",
     "text": [
      "(160, 64, 750)\n"
     ]
    },
    {
     "name": "stdout",
     "output_type": "stream",
     "text": [
      "(160,)\n"
     ]
    }
   ],
   "source": [
    "dataset = deepcopy(data_correct)\n",
    "print(dataset.shape)\n",
    "\n",
    "# intervalos de tempo sem estímulo (0 a 0,5 segundos e 2,5 a 3 segundos)\n",
    "base_start = 0\n",
    "base_end = 125\n",
    "rest_start = 625\n",
    "rest_end = 750\n",
    "\n",
    "# Estimando o ruído de fundo\n",
    "estimated_background_noise = []\n",
    "\n",
    "for trial in dataset: #para cada sinal   \n",
    "    noise_power = [] # armazena uma lista com as médias de potência para cada canal\n",
    "\n",
    "    for electrode in trial:\n",
    "        fft_result = np.fft.fft(electrode)\n",
    "        psd = np.abs(fft_result) ** 2\n",
    "\n",
    "        # média da potência nos intervalos de tempo sem estímulo\n",
    "        base_power = np.mean(psd[base_start:base_end])\n",
    "        rest_power = np.mean(psd[rest_start:rest_end])\n",
    "        mean_noise_power = (base_power + rest_power) / 2\n",
    "\n",
    "        noise_power.append(mean_noise_power)\n",
    "\n",
    "    #média das médias de potência de todos os canais para estimar o ruído de fundo\n",
    "    estimated_background_noise.append(np.mean(noise_power))\n",
    "# end\n",
    "\n",
    "\n",
    "background_noise = np.array(estimated_background_noise)\n",
    "print(background_noise.shape)"
   ]
  },
  {
   "cell_type": "code",
   "execution_count": 81,
   "metadata": {},
   "outputs": [
    {
     "data": {
      "text/plain": [
       "28376881.989714384"
      ]
     },
     "execution_count": 81,
     "metadata": {},
     "output_type": "execute_result"
    }
   ],
   "source": [
    "teste = np.mean(background_noise)\n",
    "teste"
   ]
  },
  {
   "cell_type": "markdown",
   "metadata": {},
   "source": [
    "Antes de calcular os SNRs, precisamos obter as amplitudes alvo por meio dos dados EEG:"
   ]
  },
  {
   "cell_type": "code",
   "execution_count": 83,
   "metadata": {},
   "outputs": [
    {
     "data": {
      "text/plain": [
       "(160, 64, 40)"
      ]
     },
     "execution_count": 83,
     "metadata": {},
     "output_type": "execute_result"
    }
   ],
   "source": [
    "from scipy.signal import find_peaks\n",
    "\n",
    "sr = 250\n",
    "\n",
    "# frequências alvo\n",
    "target_frequencies = np.arange(8, 16, 0.2)\n",
    "# lista para armazenar as amplitudes nas frequências alvo\n",
    "target_amplitudes = []\n",
    "\n",
    "for x in range(dataset.shape[0]):\n",
    "    samples = []\n",
    "    \n",
    "    for channel_data in dataset[x, :, :]:\n",
    "        fft_result = np.fft.fft(channel_data)\n",
    "        psd = np.abs(fft_result) ** 2\n",
    "        frequencies = np.fft.fftfreq(len(fft_result), 1 / sr)\n",
    "        target_amplitudes_trial = []\n",
    "        for target_frequency in target_frequencies:\n",
    "        # encontrando o índice da frequência alvo no espectro de frequência\n",
    "            index = np.argmin(np.abs(frequencies - target_frequency))\n",
    "            # amplitude na frequência alvo\n",
    "            amplitude = np.sqrt(psd[index])\n",
    "            target_amplitudes_trial.append(amplitude)\n",
    "        samples.append(target_amplitudes_trial)\n",
    "    target_amplitudes.append(samples)\n",
    "target_amplitudes = np.array(target_amplitudes)\n",
    "target_amplitudes.shape"
   ]
  },
  {
   "cell_type": "markdown",
   "metadata": {},
   "source": [
    "Vamos calcular o SNR de \"banda estreita\". Pode ser observado pela seguinte equação:\n",
    "\n",
    "$SNR_{banda\\ estreita} = 10 \\cdot \\log_{10}\\left(\\frac{\\text{energia total do espectro}}{\\text{média das amplitudes nas frequências vizinhas}}\\right)$\n",
    "\n",
    "Já o SNR de banda larga é definido da seguinte forma:\n",
    "\n",
    "$SNR_{banda\\ larga} = 10 \\cdot \\log_{10}\\left(\\frac{\\text{energia total do espectro}}{\\text{energia total do espectro de amplitude}}\\right)$"
   ]
  },
  {
   "cell_type": "code",
   "execution_count": 97,
   "metadata": {},
   "outputs": [],
   "source": [
    "def narrow_band_SNR(target_amplitudes, estimated_background_noise):\n",
    "  target_amplitudes_adjusted = np.abs(target_amplitudes - estimated_background_noise)\n",
    "  return 10 * np.log10(target_amplitudes_adjusted / estimated_background_noise)\n",
    "\n",
    "def wide_band_SNR(target_amplitudes, estimated_background_noise):\n",
    "  target_amplitudes_adjusted = np.abs(target_amplitudes - estimated_background_noise)\n",
    "  total_power = np.sum(target_amplitudes_adjusted)\n",
    "  return 10 * np.log10(target_amplitudes_adjusted / total_power)"
   ]
  },
  {
   "cell_type": "code",
   "execution_count": 84,
   "metadata": {},
   "outputs": [],
   "source": [
    "def narrow_band_SNR(target_amplitudes, estimated_background_noise):\n",
    "  target_amplitudes_adjusted = np.abs(target_amplitudes - teste)\n",
    "  return 10 * np.log10(target_amplitudes_adjusted / teste)\n",
    "\n",
    "def wide_band_SNR(target_amplitudes, estimated_background_noise):\n",
    "  target_amplitudes_adjusted = np.abs(target_amplitudes - teste)\n",
    "  total_power = np.sum(target_amplitudes_adjusted)\n",
    "  return 10 * np.log10(target_amplitudes_adjusted / total_power)"
   ]
  },
  {
   "cell_type": "markdown",
   "metadata": {},
   "source": [
    "# SVM"
   ]
  },
  {
   "cell_type": "code",
   "execution_count": 63,
   "metadata": {},
   "outputs": [],
   "source": [
    "#Cs e gammas são listas com os valores a serem avaliados para os respectivos parâmetros.\n",
    "def selecionar_melhor_svm(Cs, gammas, X_treino : np.ndarray, X_val : np.ndarray, \n",
    "                          y_treino : np.ndarray, y_val : np.ndarray, n_jobs=4):\n",
    "    \n",
    "    def treinar_svm(C, gamma, X_treino, X_val, y_treino, y_val):\n",
    "        svm = SVC(C=C, gamma=gamma)\n",
    "        svm.fit(X_treino, y_treino)\n",
    "        pred = svm.predict(X_val)\n",
    "        return accuracy_score(y_val, pred)\n",
    "    \n",
    "    #gera todas as combinações de parametros C e gamma, de acordo com as listas de valores recebidas por parametro.\n",
    "    #Na prática faz o produto cartesiano entre Cs e gammas.\n",
    "    combinacoes_parametros = list(itertools.product(Cs, gammas))\n",
    "    \n",
    "    #Treinar modelos com todas as combinações de C e gamma\n",
    "    acuracias_val = Parallel(n_jobs=n_jobs)(delayed(treinar_svm)\n",
    "                                       (c, g, X_treino, X_val, y_treino, y_val) for c, g in combinacoes_parametros)       \n",
    "    \n",
    "    melhor_val = max(acuracias_val)\n",
    "    #Encontrar a combinação que levou ao melhor resultado no conjunto de validação\n",
    "    melhor_comb = combinacoes_parametros[np.argmax(acuracias_val)]   \n",
    "    melhor_c = melhor_comb[0]\n",
    "    melhor_gamma = melhor_comb[1]\n",
    "    \n",
    "    #Treinar uma SVM com todos os dados de treino e validação usando a melhor combinação de C e gamma.\n",
    "    svm = SVC(C=melhor_c, gamma=melhor_gamma)\n",
    "    svm.fit(np.vstack((X_treino, X_val)), [*y_treino, *y_val])\n",
    "\n",
    "    return svm, melhor_comb, melhor_val\n",
    "\n",
    "#Implementa a validação cruzada para avaliar o desempenho da SVM na base de dados com as instâncias X e as saídas y.\n",
    "#cv_splits indica o número de partições que devem ser criadas.\n",
    "#Cs é a lista com os valores C que devem ser avaliados na busca exaustiva de parametros para a SVM.\n",
    "#gammas s é a lista com os valores gamma que devem ser avaliados na busca exaustiva de parametros para a SVM.\n",
    "def do_cv_svm(X, y, cv_splits, Cs=[1], gammas=['scale']):\n",
    "\n",
    "    skf = StratifiedKFold(n_splits=cv_splits, shuffle=True, random_state=1)\n",
    "\n",
    "    acuracias = []\n",
    "    \n",
    "    #pgb = tqdm(total=cv_splits, desc='Folds avaliados')\n",
    "    \n",
    "    for treino_idx, teste_idx in skf.split(X, y):\n",
    "\n",
    "        X_treino = X[treino_idx]\n",
    "        y_treino = y[treino_idx]\n",
    "\n",
    "        X_teste = X[teste_idx]\n",
    "        y_teste = y[teste_idx]\n",
    "\n",
    "        X_treino, X_val, y_treino, y_val = train_test_split(X_treino, y_treino, test_size=0.2, random_state=42)\n",
    "\n",
    "        ss = StandardScaler()\n",
    "        ss.fit(X_treino)\n",
    "        X_treino = ss.transform(X_treino)\n",
    "        X_teste = ss.transform(X_teste)\n",
    "        X_val = ss.transform(X_val)\n",
    "\n",
    "        svm, _, _ = selecionar_melhor_svm(Cs, gammas, X_treino, X_val, y_treino, y_val)\n",
    "        pred = svm.predict(X_teste)\n",
    "\n",
    "        acuracias.append(accuracy_score(y_teste, pred))\n",
    "        \n",
    "        #pgb.update(1)\n",
    "        \n",
    "    #pgb.close()\n",
    "    \n",
    "    return acuracias"
   ]
  },
  {
   "cell_type": "markdown",
   "metadata": {},
   "source": [
    "# Remoção manual de caracteristicas"
   ]
  },
  {
   "cell_type": "code",
   "execution_count": 85,
   "metadata": {},
   "outputs": [
    {
     "name": "stdout",
     "output_type": "stream",
     "text": [
      "(160, 64, 80)\n"
     ]
    }
   ],
   "source": [
    "X = []\n",
    "y = labels\n",
    "\n",
    "for i, trial in enumerate(dataset):\n",
    "  X.append([\n",
    "    narrow_band_SNR(target_amplitudes[i], background_noise[i]),\n",
    "    wide_band_SNR(target_amplitudes[i], background_noise[i])\n",
    "  ])\n",
    "  \n",
    "X = np.array(X)\n",
    "X = X.swapaxes(1, 2)\n",
    "X = X.reshape(X.shape[0], X.shape[1], X.shape[2]*X.shape[3])\n",
    "print(X.shape)"
   ]
  },
  {
   "cell_type": "code",
   "execution_count": 86,
   "metadata": {},
   "outputs": [
    {
     "name": "stdout",
     "output_type": "stream",
     "text": [
      "accuracy 0.125\n",
      "f1_score 0.10416666666666666\n"
     ]
    }
   ],
   "source": [
    "# Remoção\n",
    "# opções: ['PZ', 'PO3', 'PO5', 'PO4', 'PO6', 'POZ', 'O1', 'OZ', 'O2'] -> [47, 53, 54, 55, 56, 57, 60, 61, 62]\n",
    "Xmanual = deepcopy(X)\n",
    "Xmanual = Xmanual[:,[47, 53, 54, 55, 56, 57, 60, 61, 62],:]\n",
    "Xmanual = Xmanual.reshape(Xmanual.shape[0], Xmanual.shape[1]*Xmanual.shape[2])\n",
    "\n",
    "#preparing\n",
    "Xmanual = StandardScaler().fit_transform(Xmanual)\n",
    "ym = LabelEncoder().fit_transform(y)\n",
    "\n",
    "x_train, x_test, y_train, y_test = train_test_split(Xmanual, ym, test_size=0.2, random_state=42)\n",
    "\n",
    "clf = SVC(kernel='linear', C=1, random_state=42, probability=True)\n",
    "clf.fit(x_train, y_train)\n",
    "y_pred = clf.predict(x_test)\n",
    "\n",
    "print(\"accuracy\", accuracy_score(y_test, y_pred))\n",
    "print(\"f1_score\", f1_score(y_test, y_pred, average=\"weighted\"))"
   ]
  },
  {
   "cell_type": "code",
   "execution_count": 87,
   "metadata": {},
   "outputs": [],
   "source": [
    "Xmanual = deepcopy(X)\n",
    "Xmanual = Xmanual[:,[47, 53, 54, 55, 56, 57, 60, 61, 62],:]\n",
    "Xmanual = Xmanual.reshape(Xmanual.shape[0], Xmanual.shape[1]*Xmanual.shape[2])\n",
    "\n",
    "#preparing\n",
    "Xm = StandardScaler().fit_transform(Xmanual)\n",
    "ym = LabelEncoder().fit_transform(y)"
   ]
  },
  {
   "cell_type": "code",
   "execution_count": 88,
   "metadata": {},
   "outputs": [],
   "source": [
    "accs_svm = do_cv_svm(Xm, ym, 3, Cs=[1, 10, 100, 1000], gammas=['scale', 'auto', 2e-2, 2e-3, 2e-4])"
   ]
  },
  {
   "cell_type": "code",
   "execution_count": 89,
   "metadata": {},
   "outputs": [
    {
     "name": "stdout",
     "output_type": "stream",
     "text": [
      "min: 0.02, max: 0.04, avg +- std: 0.03 +- 0.01\n"
     ]
    }
   ],
   "source": [
    "print(\"min: %.2f, max: %.2f, avg +- std: %.2f +- %.2f\" % (min(accs_svm), max(accs_svm), np.mean(accs_svm), np.std(accs_svm)))"
   ]
  },
  {
   "cell_type": "markdown",
   "metadata": {},
   "source": [
    "# Remoção automática de caracteristicas"
   ]
  },
  {
   "cell_type": "code",
   "execution_count": 98,
   "metadata": {},
   "outputs": [
    {
     "name": "stdout",
     "output_type": "stream",
     "text": [
      "(160, 64, 80)\n"
     ]
    }
   ],
   "source": [
    "X = []\n",
    "y = labels\n",
    "\n",
    "for i, trial in enumerate(dataset):\n",
    "  X.append([\n",
    "    narrow_band_SNR(target_amplitudes[i], background_noise[i]),\n",
    "    wide_band_SNR(target_amplitudes[i], background_noise[i])\n",
    "  ])\n",
    "  \n",
    "X = np.array(X)\n",
    "X = X.swapaxes(1, 2)\n",
    "X = X.reshape(X.shape[0], X.shape[1], X.shape[2]*X.shape[3])\n",
    "print(X.shape)"
   ]
  },
  {
   "cell_type": "code",
   "execution_count": null,
   "metadata": {},
   "outputs": [],
   "source": [
    "# preparing\n",
    "Xauto = deepcopy(X)\n",
    "Xauto = Xauto.reshape(Xauto.shape[0], Xauto.shape[1]*Xauto.shape[2])\n",
    "Xauto = StandardScaler().fit_transform(Xauto)\n",
    "ya = LabelEncoder().fit_transform(y)\n",
    "print(Xauto.shape, ya.shape)\n",
    "\n",
    "#rfe\n",
    "rfe = RFECV(svm.SVC(kernel=\"linear\"), step=0.0001, min_features_to_select=1, cv=3)\n",
    "X_final = rfe.fit_transform(Xauto, ya)\n",
    "print(X_final.shape)\n",
    "\n",
    "#svm\n",
    "x_train, x_test, y_train, y_test = train_test_split(X_final, ya, test_size=0.3, random_state=42)\n",
    "\n",
    "clf = SVC(kernel='linear', C=1, random_state=42, probability=True)\n",
    "clf.fit(x_train, y_train)\n",
    "y_pred = clf.predict(x_test)\n",
    "\n",
    "print(\"accuracy\", accuracy_score(y_test, y_pred))\n",
    "print(\"f1_score\", f1_score(y_test, y_pred, average=\"weighted\"))"
   ]
  },
  {
   "cell_type": "markdown",
   "metadata": {},
   "source": [
    "# Utilizando o Kbest para seleção de caracteristicas"
   ]
  },
  {
   "cell_type": "code",
   "execution_count": 99,
   "metadata": {},
   "outputs": [
    {
     "name": "stdout",
     "output_type": "stream",
     "text": [
      "(160, 5120) (160,)\n"
     ]
    },
    {
     "data": {
      "text/plain": [
       "'\\nx_train, x_test, y_train, y_test = train_test_split(X_final, ya, test_size=0.2, random_state=42)\\n\\nclf = SVC(kernel=\\'linear\\', C=1000, random_state=42, probability=True)\\nclf.fit(x_train, y_train)\\ny_pred = clf.predict(x_test)\\n\\nprint(\"accuracy\", accuracy_score(y_test, y_pred))\\nprint(\"f1_score\", f1_score(y_test, y_pred, average=\"weighted\"))\\n'"
      ]
     },
     "execution_count": 99,
     "metadata": {},
     "output_type": "execute_result"
    }
   ],
   "source": [
    "from sklearn.feature_selection import SelectKBest\n",
    "from sklearn.feature_selection import f_classif\n",
    "\n",
    "Xauto = deepcopy(X)\n",
    "Xauto = Xauto.reshape(Xauto.shape[0], Xauto.shape[1]*Xauto.shape[2])\n",
    "Xauto = StandardScaler().fit_transform(Xauto)\n",
    "ya = LabelEncoder().fit_transform(y)\n",
    "print(Xauto.shape, ya.shape)\n",
    "\n",
    "kbest = SelectKBest(f_classif, k=512)\n",
    "X_final = kbest.fit_transform(Xauto, ya)\n",
    "'''\n",
    "x_train, x_test, y_train, y_test = train_test_split(X_final, ya, test_size=0.2, random_state=42)\n",
    "\n",
    "clf = SVC(kernel='linear', C=1000, random_state=42, probability=True)\n",
    "clf.fit(x_train, y_train)\n",
    "y_pred = clf.predict(x_test)\n",
    "\n",
    "print(\"accuracy\", accuracy_score(y_test, y_pred))\n",
    "print(\"f1_score\", f1_score(y_test, y_pred, average=\"weighted\"))\n",
    "'''"
   ]
  },
  {
   "cell_type": "code",
   "execution_count": 100,
   "metadata": {},
   "outputs": [],
   "source": [
    "accs_svm = do_cv_svm(X_final, ya, 3, Cs=[1, 10, 100, 1000], gammas=['scale', 'auto', 2e-2, 2e-3, 2e-4])"
   ]
  },
  {
   "cell_type": "code",
   "execution_count": 101,
   "metadata": {},
   "outputs": [
    {
     "name": "stdout",
     "output_type": "stream",
     "text": [
      "min: 0.13, max: 0.22, avg +- std: 0.17 +- 0.04\n"
     ]
    }
   ],
   "source": [
    "print(\"min: %.2f, max: %.2f, avg +- std: %.2f +- %.2f\" % (min(accs_svm), max(accs_svm), np.mean(accs_svm), np.std(accs_svm)))"
   ]
  },
  {
   "cell_type": "markdown",
   "metadata": {},
   "source": [
    "Ao final desta etapa, será obtido um vetor de características. Estas podem ser:\n",
    "- `narrow SNR` (brigatória);\n",
    "- `wide-band SNR` (brigatória);\n",
    "- Maior valor espectral (FFT);\n",
    "- Média dos valores espectrais (FFT).\n",
    "\n",
    "Dimensionalidade dos dados será explicada da seguinte forma:\n",
    "\n",
    "`40, 4, 64, 750` -> 40 targets, 4 trials, 64 canais e 750 valores\n",
    "`160, 64 (SNR) + 64 (média) + 64 (maior) ...`\n",
    "Resultando em `160, 192`."
   ]
  },
  {
   "cell_type": "markdown",
   "metadata": {},
   "source": [
    "### Seleção de características e classificação\n",
    "\n",
    "Como existem diversos eletrodos (canais) que não obtém sinal SSVEP, podemos extrair as caracteríscas que não contribuem para a classificação dos dados.\n",
    "\n",
    "Podemos utilizar o método `RFE` (*Recursive Feature Elimination*) aplicado por meio de `sklearn.feature_selection.RFE`, aprimorando o parâmetro `n_features_to_select` até obter o melhor resultado de classificação.\n",
    "\n",
    "Para a classificação propriamente dita, é considerado o uso do método `SVM`."
   ]
  },
  {
   "cell_type": "markdown",
   "metadata": {},
   "source": [
    "# Visualização dos dados"
   ]
  },
  {
   "cell_type": "code",
   "execution_count": 2,
   "metadata": {},
   "outputs": [],
   "source": [
    "from scipy.io import loadmat\n",
    "import numpy as np\n",
    "\n",
    "last_group = list()\n",
    "for i in range(11, 21):\n",
    "    last_group.append(loadmat(f\"./Sujeitos/S11-S20/S{i}.mat\")['data'])\n",
    "\n",
    "# informações iguais para todos os grupos\n",
    "info = last_group[-1]"
   ]
  },
  {
   "cell_type": "code",
   "execution_count": 21,
   "metadata": {},
   "outputs": [
    {
     "data": {
      "text/plain": [
       "array([[[[ 3.48396503e-01,  1.98550872e+00, -3.29123662e+00, ...,\n",
       "          -3.87637008e+00,  1.17186192e+00, -7.36126100e+00],\n",
       "         [ 1.40230989e+01,  5.70394979e+00,  2.68691149e+00, ...,\n",
       "          -1.99601648e+01, -1.84804166e+00,  1.13068685e+01],\n",
       "         [-3.97725122e+00, -5.52837908e+00, -7.01474034e+00, ...,\n",
       "           1.99416620e+00,  3.12124887e+01, -5.14766890e+00],\n",
       "         [-6.39945572e-01, -2.49497750e+01,  1.35447732e+01, ...,\n",
       "           2.25098225e+00, -1.96015816e+00, -3.43603969e+00]],\n",
       "\n",
       "        [[-1.42240984e+00,  4.96094998e-01, -1.35217775e+00, ...,\n",
       "          -1.61814608e+00,  4.49449711e+00, -9.58343283e+00],\n",
       "         [ 1.75833995e+01,  4.39418402e-01,  8.25317161e-01, ...,\n",
       "          -2.05450428e+01, -2.20761788e+00,  2.22063361e+01],\n",
       "         [-5.10751233e+00, -1.18241924e+00, -6.92697342e+00, ...,\n",
       "           1.24124579e+00,  2.98511734e+01, -7.68917158e+00],\n",
       "         [ 1.31128328e+00, -2.93251059e+01,  8.43934837e+00, ...,\n",
       "           3.69818760e-01, -3.01790470e+00, -5.41224050e+00]],\n",
       "\n",
       "        [[ 1.28476650e+00, -1.07742564e+00, -2.55442439e+00, ...,\n",
       "          -3.76318768e+00,  3.07324960e+00, -2.18983315e+00],\n",
       "         [ 1.25830539e+01, -1.42576437e-01, -3.37538404e+00, ...,\n",
       "           2.47694263e+01, -1.02611190e+00,  3.07002881e+01],\n",
       "         [-2.64284391e+00,  1.39696684e+00, -8.20862438e+00, ...,\n",
       "           1.20264158e+00,  2.38642747e+01, -4.91642200e+00],\n",
       "         [ 1.28100195e+00, -3.11083531e+01,  3.69714175e+00, ...,\n",
       "           1.07049665e+00, -5.69802572e-02, -4.09298562e-01]],\n",
       "\n",
       "        ...,\n",
       "\n",
       "        [[ 5.55755486e+00, -1.55933835e+00,  8.27806005e-02, ...,\n",
       "           1.37163219e+00, -7.27379130e-01, -9.11433168e+00],\n",
       "         [ 1.73052100e+00,  1.68942266e+00, -1.25307736e+00, ...,\n",
       "          -4.97601793e+00,  1.92361537e+00,  9.25990096e+00],\n",
       "         [-2.39126390e+00, -4.57012713e+00,  1.66523876e+00, ...,\n",
       "           2.27327278e+00,  4.89127684e+00, -1.06956586e+01],\n",
       "         [ 6.49263601e-01, -6.80760134e+00,  6.55153660e-01, ...,\n",
       "          -1.23837485e+00, -5.71826379e+00,  2.97207354e+00]],\n",
       "\n",
       "        [[ 3.89533367e+00, -6.09018636e-01, -1.97139584e+00, ...,\n",
       "           1.99304314e+00, -2.89064050e+00, -6.84794392e+00],\n",
       "         [ 9.04930483e-01,  2.91305278e+00,  4.68687681e+00, ...,\n",
       "          -7.79780421e+00,  1.91721464e+00,  5.18728063e+00],\n",
       "         [-2.43926283e+00, -4.79996386e+00,  1.49954411e+00, ...,\n",
       "           8.51099136e-01,  5.58044070e+00, -1.14380011e+01],\n",
       "         [-3.67983687e-01, -5.40621138e+00, -1.91883062e+00, ...,\n",
       "          -7.63823144e-01, -5.45020399e+00, -7.42924391e-01]],\n",
       "\n",
       "        [[ 8.44776332e-01, -1.49728129e+00, -7.30633227e-01, ...,\n",
       "           1.18787220e+00, -2.33702973e+00, -5.53920949e+00],\n",
       "         [ 2.06624097e+00,  5.13841099e+00,  7.03221870e+00, ...,\n",
       "          -5.20396551e+00,  1.80742375e+00,  3.79050506e+00],\n",
       "         [-2.23408994e+00, -6.77286093e+00,  2.48279486e+00, ...,\n",
       "           3.29447210e-02,  2.65705247e+00, -9.24985461e+00],\n",
       "         [ 1.33076382e+00, -6.59543052e+00, -6.21016841e+00, ...,\n",
       "           1.14519753e+00, -4.65967592e+00, -1.87968163e+00]]],\n",
       "\n",
       "\n",
       "       [[[-1.89627877e+00,  1.59760429e+00, -3.83937934e+00, ...,\n",
       "          -1.13686861e+00,  1.46983396e-01, -5.32843734e+00],\n",
       "         [ 1.31970336e+01,  5.95069863e+00,  4.02015176e-01, ...,\n",
       "          -1.83546861e+01,  4.18308452e+00,  1.10473086e+01],\n",
       "         [-1.89122723e+00, -4.50710651e+00, -7.15377000e+00, ...,\n",
       "          -5.23722678e-01,  2.81452348e+01, -1.96112982e+00],\n",
       "         [-1.47155654e+00, -1.77904360e+01,  1.04989582e+01, ...,\n",
       "          -1.59571987e+00, -1.05981823e+00, -2.39972923e+00]],\n",
       "\n",
       "        [[-1.20766873e-01,  4.94189763e-02, -2.16825443e+00, ...,\n",
       "          -5.48178403e-01,  2.97314064e+00, -5.61065432e+00],\n",
       "         [ 1.44641067e+01,  3.49872483e+00,  5.02655665e-01, ...,\n",
       "          -3.28733573e+01,  1.16700846e+00,  2.23910741e+01],\n",
       "         [-3.68754543e+00, -1.14424910e+00, -6.28228762e+00, ...,\n",
       "          -1.31852447e+00,  2.71036561e+01, -2.63416527e+00],\n",
       "         [-5.80449776e-01, -2.14613526e+01,  7.05622937e+00, ...,\n",
       "          -1.51773071e+00, -2.54924497e+00, -2.96559328e+00]],\n",
       "\n",
       "        [[ 3.87143816e+00, -1.38240069e-01, -3.09756471e+00, ...,\n",
       "          -3.61692946e+00,  2.74542236e+00,  3.81832481e-01],\n",
       "         [ 1.04976601e+01,  4.01440658e+00,  2.44033780e-01, ...,\n",
       "           7.84129004e+00, -2.06678857e+00,  3.33213881e+01],\n",
       "         [-3.12065863e+00,  2.16223668e+00, -6.28929970e+00, ...,\n",
       "          -2.19492979e+00,  2.24605146e+01, -4.36423817e+00],\n",
       "         [-1.30352279e+00, -2.49917639e+01,  3.82212205e+00, ...,\n",
       "          -8.90545998e-01, -2.17358592e-01,  7.32710462e-01]],\n",
       "\n",
       "        ...,\n",
       "\n",
       "        [[ 4.35277694e+00,  2.10586940e+00, -4.64513547e-01, ...,\n",
       "           1.59994851e+00, -1.34924905e+00, -7.78083322e+00],\n",
       "         [ 6.24709810e+00,  4.32764115e+00,  2.21909707e+00, ...,\n",
       "          -3.32973551e+00,  2.07650805e+00,  5.75359923e+00],\n",
       "         [-2.22387238e+00, -4.06495803e+00,  2.06228886e+00, ...,\n",
       "           1.57131488e+00,  3.61577983e+00, -1.04206425e+01],\n",
       "         [ 1.69411411e+00, -7.05545228e+00,  5.92387446e-01, ...,\n",
       "           7.89103321e-01, -2.86471393e+00, -1.41172921e+00]],\n",
       "\n",
       "        [[ 2.58943075e+00,  3.03459854e+00, -2.81495103e+00, ...,\n",
       "           1.88157069e+00, -2.89987646e+00, -4.62690490e+00],\n",
       "         [ 6.96126312e+00,  4.07623077e+00,  4.56762981e+00, ...,\n",
       "          -6.36617336e+00,  1.09185302e+00,  4.15549842e+00],\n",
       "         [-2.89033229e+00, -6.35315540e+00,  2.20654011e+00, ...,\n",
       "           3.65929133e-01,  4.15092532e+00, -1.07354463e+01],\n",
       "         [-8.96711556e-02, -6.97442480e+00, -1.49626727e+00, ...,\n",
       "          -2.43718242e-02, -2.16262678e+00, -3.03376169e+00]],\n",
       "\n",
       "        [[ 3.80886990e-01,  2.30499364e+00, -2.02107697e+00, ...,\n",
       "           1.44060551e+00, -3.02922209e+00, -2.52044367e+00],\n",
       "         [ 5.53450748e+00,  5.90217061e+00,  5.70155708e+00, ...,\n",
       "          -4.36032120e+00,  5.06626945e-01,  4.00606120e+00],\n",
       "         [-2.60964108e+00, -7.18893500e+00,  3.27044450e+00, ...,\n",
       "           2.35658012e-01,  2.21531093e+00, -9.07484065e+00],\n",
       "         [ 6.31652431e-01, -8.40034539e+00, -4.42608539e+00, ...,\n",
       "           8.43403460e-01, -1.79690742e+00, -3.85997356e+00]]],\n",
       "\n",
       "\n",
       "       [[[-2.43902339e+00,  2.20875715e+00, -4.91312126e+00, ...,\n",
       "           8.83984112e-01,  8.24439547e-01, -1.47111334e+00],\n",
       "         [ 1.58389265e+01,  4.35869003e+00,  2.42710196e+00, ...,\n",
       "           3.20156458e+01, -1.48314695e+00,  1.42375894e+01],\n",
       "         [-1.62580599e+00, -5.90149903e+00, -3.99506278e+00, ...,\n",
       "          -2.01116388e+00,  2.96621283e+01, -1.15255768e+00],\n",
       "         [-1.86790311e+00, -1.59906677e+01,  8.31818820e+00, ...,\n",
       "          -2.16108053e+00,  1.41898374e+00, -2.76409572e+00]],\n",
       "\n",
       "        [[-1.19829533e+00,  2.41796010e+00, -4.24338742e+00, ...,\n",
       "           8.15732273e-01,  2.72146944e+00, -8.81451110e-01],\n",
       "         [ 1.65982352e+01,  3.49016168e+00,  1.91672633e+00, ...,\n",
       "           6.03176748e-01, -2.97241672e+00,  2.67629265e+01],\n",
       "         [-3.32444670e+00, -2.95007208e+00, -3.58585422e+00, ...,\n",
       "          -3.21313481e+00,  2.72837214e+01, -6.57055063e-01],\n",
       "         [-1.33617616e+00, -1.83202105e+01,  5.61614328e+00, ...,\n",
       "          -1.93121495e+00, -1.74673096e-01, -2.61997195e+00]],\n",
       "\n",
       "        [[ 3.27385596e+00,  2.44301118e+00, -4.50266318e+00, ...,\n",
       "          -1.88528333e+00,  1.70413571e+00,  2.89211897e+00],\n",
       "         [ 1.17040648e+01,  5.85771335e+00,  5.85629822e-01, ...,\n",
       "           8.76855865e+00, -5.82817893e+00,  3.91502239e+01],\n",
       "         [-2.94785189e+00,  4.76537538e-01, -3.90276630e+00, ...,\n",
       "          -4.91716379e+00,  2.38073525e+01, -3.52481252e+00],\n",
       "         [-2.28242161e+00, -2.15184524e+01,  1.38131874e+00, ...,\n",
       "          -2.63577738e+00,  4.75426134e-01, -1.59361882e+00]],\n",
       "\n",
       "        ...,\n",
       "\n",
       "        [[ 4.82931639e+00,  2.86643190e+00, -1.22357658e+00, ...,\n",
       "           2.18716618e+00, -5.98544245e+00, -1.00657631e+01],\n",
       "         [ 4.65219118e+00,  3.50995998e+00,  2.36368830e+00, ...,\n",
       "          -2.34834836e-01,  2.19888263e-01,  3.22597304e+00],\n",
       "         [-1.86597536e+00, -3.36357104e+00,  3.82171899e+00, ...,\n",
       "           2.44355184e+00,  3.56109080e+00, -7.25285023e+00],\n",
       "         [ 4.05632922e+00, -6.49640906e+00, -1.74963659e+00, ...,\n",
       "          -1.77367169e+00, -1.27676293e+00, -1.08669937e-01]],\n",
       "\n",
       "        [[ 4.31508857e+00,  4.14421284e+00, -3.65404754e+00, ...,\n",
       "           1.75411411e+00, -7.33053318e+00, -6.61303941e+00],\n",
       "         [ 6.58722097e+00,  1.79204498e+00,  4.29412467e+00, ...,\n",
       "          -2.84635336e+00, -7.17860409e-01,  3.96652559e+00],\n",
       "         [-3.27293489e+00, -6.48569928e+00,  5.03086249e+00, ...,\n",
       "           1.55025461e+00,  3.32833494e+00, -8.50190475e+00],\n",
       "         [ 2.61113024e+00, -5.99769479e+00, -3.92400892e+00, ...,\n",
       "          -2.74292885e+00, -1.16604225e+00, -2.38166837e+00]],\n",
       "\n",
       "        [[ 1.43887866e+00,  3.41025845e+00, -2.47678481e+00, ...,\n",
       "           9.84884074e-02, -7.16306945e+00, -3.17122508e+00],\n",
       "         [ 4.25068158e+00,  3.18981387e+00,  3.64402767e+00, ...,\n",
       "          -3.39181284e+00, -6.76785833e-01,  4.29780413e+00],\n",
       "         [-2.94338662e+00, -7.97598334e+00,  5.87848609e+00, ...,\n",
       "           1.00993848e+00,  2.20682414e+00, -8.05290873e+00],\n",
       "         [ 3.27768693e+00, -6.66620821e+00, -5.77783401e+00, ...,\n",
       "          -2.57204373e+00, -5.07098773e-01, -3.07019148e+00]]],\n",
       "\n",
       "\n",
       "       ...,\n",
       "\n",
       "\n",
       "       [[[ 1.51595298e+00,  5.88367436e+00, -1.41482481e-01, ...,\n",
       "          -4.98289943e+00, -1.51773120e+00,  3.43635961e+00],\n",
       "         [ 2.40949675e+00, -5.61434389e+00, -7.99016359e+00, ...,\n",
       "          -6.66843330e+00,  4.86494512e+00,  2.57669868e+00],\n",
       "         [-3.59183596e+00,  1.33604956e+00,  9.14539826e+00, ...,\n",
       "           5.20832047e+00, -3.72195566e+00, -1.94892130e+00],\n",
       "         [-2.63067821e+00, -2.83418467e+00,  2.13364590e+00, ...,\n",
       "          -9.24713912e+00, -7.02165587e+00,  1.51277888e+01]],\n",
       "\n",
       "        [[ 5.73283338e-01,  5.85620748e+00,  1.05613230e+00, ...,\n",
       "          -5.99655870e+00, -1.20609862e+00,  4.26099522e+00],\n",
       "         [ 3.50680383e-01, -7.84920301e+00, -4.01484096e+00, ...,\n",
       "          -6.08384984e+00,  2.83690194e+00, -4.98652554e+00],\n",
       "         [-3.57838821e+00,  3.71595043e-01,  5.40179259e+00, ...,\n",
       "           5.81385940e+00, -8.21262366e+00, -3.94045019e+00],\n",
       "         [ 2.51160440e+00, -1.21581532e+00, -1.57420159e+00, ...,\n",
       "          -5.50124349e+00, -5.89012881e+00,  8.55178376e+00]],\n",
       "\n",
       "        [[-6.88980828e-01,  4.43497171e+00,  9.37873795e-01, ...,\n",
       "          -4.95556693e+00, -2.71969322e+00,  2.15364940e+00],\n",
       "         [ 9.39258921e-01, -6.24608413e+00,  8.33773812e-01, ...,\n",
       "          -4.92692427e+00, -6.09833366e+00, -1.18623528e+01],\n",
       "         [-3.76541787e+00, -3.11014241e+00,  4.86751889e+00, ...,\n",
       "           6.40573364e+00, -8.00499623e+00, -4.29725605e+00],\n",
       "         [ 3.69092630e+00,  7.31435735e-01, -4.34771259e-01, ...,\n",
       "          -2.54477786e+00,  7.87623485e-01,  2.79224750e+00]],\n",
       "\n",
       "        ...,\n",
       "\n",
       "        [[-1.97007661e+00,  1.13240716e+00,  4.37453509e+00, ...,\n",
       "          -2.39878586e+00, -2.12771778e+00, -6.42937859e-01],\n",
       "         [ 1.00148503e+00, -1.15079290e+00,  2.79341505e+00, ...,\n",
       "          -7.33864558e+00, -6.69998045e+00,  5.39393760e+00],\n",
       "         [ 3.67581475e+00,  4.08281620e-01, -7.27477347e-01, ...,\n",
       "          -2.61164720e+00,  4.81043616e+00, -7.26811266e+00],\n",
       "         [ 2.15076090e+00, -5.79752835e+00, -5.75296563e+00, ...,\n",
       "           2.29436790e+00, -3.31182939e+00,  1.57764553e+01]],\n",
       "\n",
       "        [[ 5.56963362e-01,  2.12132726e+00,  5.04103632e+00, ...,\n",
       "          -2.43806478e+00, -1.45076580e+00, -3.24357345e+00],\n",
       "         [ 9.14414420e-01,  5.45976347e-01,  2.92626987e+00, ...,\n",
       "          -1.18113632e+01, -6.27840333e+00,  5.03827722e+00],\n",
       "         [ 4.38414319e+00, -3.63117344e+00, -1.67972261e+00, ...,\n",
       "          -2.17606480e+00,  2.52475200e+00, -9.27108800e+00],\n",
       "         [ 7.23633417e+00, -6.14323584e+00, -5.09030405e+00, ...,\n",
       "           1.91544704e+00, -1.68723884e+00,  2.05099817e+01]],\n",
       "\n",
       "        [[ 1.17668024e+00,  2.45101393e+00,  2.88000034e+00, ...,\n",
       "          -3.75397495e+00, -3.55394244e-01, -2.93228128e+00],\n",
       "         [ 5.06614414e-01, -6.55473512e+00,  1.56997843e+00, ...,\n",
       "          -1.30146054e+01, -4.83702329e+00, -2.17363701e+00],\n",
       "         [ 2.44510938e+00, -7.43090714e+00, -3.01400799e+00, ...,\n",
       "          -5.08587792e-01,  6.27622833e-01, -5.91746944e+00],\n",
       "         [ 1.17901719e+01, -7.33682993e+00, -7.42470140e+00, ...,\n",
       "           9.25350432e-01, -5.23620674e+00,  2.49840804e+01]]],\n",
       "\n",
       "\n",
       "       [[[ 3.54816483e+00,  4.69482049e+00,  3.72857618e+00, ...,\n",
       "          -1.99019389e+00, -3.20600197e+00,  5.31148178e+00],\n",
       "         [ 1.46651709e+00, -2.62844826e+00, -7.05490841e+00, ...,\n",
       "           4.65955059e+00,  7.87858983e+00, -4.85255422e+00],\n",
       "         [-2.44308027e+00, -1.43338178e-01,  3.74898936e+00, ...,\n",
       "           4.36785075e+00, -5.01396817e+00, -2.09919847e+00],\n",
       "         [-2.04671511e-01, -6.35611783e-01,  1.67845546e+00, ...,\n",
       "          -6.31705698e+00, -3.86671896e+00,  8.36120261e+00]],\n",
       "\n",
       "        [[ 1.62212684e+00,  4.42432480e+00,  1.29001142e+00, ...,\n",
       "          -2.17929201e+00, -3.02463339e+00,  5.60184901e+00],\n",
       "         [ 6.78756713e-01, -8.13059526e+00, -1.57655624e+00, ...,\n",
       "          -7.43604670e+00,  7.28451997e+00, -4.51287645e+00],\n",
       "         [-3.12752539e+00, -9.00940448e-01,  3.89141661e+00, ...,\n",
       "           3.79368298e+00, -5.94212323e+00, -2.13890455e+00],\n",
       "         [ 3.81052431e-01, -1.46838277e+00,  3.28197259e+00, ...,\n",
       "          -3.67981948e+00, -3.71762122e+00,  5.69033634e+00]],\n",
       "\n",
       "        [[-2.55725810e-01,  3.70928797e+00, -9.62394743e-02, ...,\n",
       "          -5.79645181e-01, -2.79272592e+00,  3.57756748e+00],\n",
       "         [-1.60976491e-01, -4.83829225e+00,  2.93892958e+00, ...,\n",
       "          -9.18488907e+00, -6.84551987e+00, -3.61065961e+00],\n",
       "         [-2.84555362e+00, -2.15548056e+00,  6.01006934e+00, ...,\n",
       "           3.34749663e+00, -7.23209831e+00, -2.02070615e+00],\n",
       "         [ 2.32348230e-01, -1.36484901e+00,  6.07831410e+00, ...,\n",
       "          -1.49072187e+00, -1.64838084e-01,  3.27916189e+00]],\n",
       "\n",
       "        ...,\n",
       "\n",
       "        [[-1.77713432e+00,  6.31418538e-01,  2.78845699e+00, ...,\n",
       "          -2.04215024e+00, -3.83299008e+00, -3.59111720e+00],\n",
       "         [ 2.11169660e+00, -2.60903892e+00,  8.82239151e+00, ...,\n",
       "          -3.51881747e+00, -7.96509305e+00,  3.51482254e+00],\n",
       "         [ 1.74429351e+00,  1.47557592e+00, -2.39016061e+00, ...,\n",
       "          -5.46332839e-01,  4.71954598e+00, -8.72703755e+00],\n",
       "         [ 3.88249303e+00, -5.65920871e+00, -5.17609502e+00, ...,\n",
       "           2.00530479e+00, -1.77633345e+00,  1.20386393e+01]],\n",
       "\n",
       "        [[-4.72547509e-01,  1.97089677e+00,  1.45352864e+00, ...,\n",
       "          -7.72247679e-01, -3.02015329e+00, -3.73108012e+00],\n",
       "         [-5.63836469e-01, -1.18167109e+00,  3.68842369e+00, ...,\n",
       "          -4.15731763e+00, -8.59296079e+00,  2.24721174e+00],\n",
       "         [ 3.46245914e+00, -2.48898767e+00, -3.48022383e+00, ...,\n",
       "           1.10833588e+00,  4.50127954e+00, -7.25807930e+00],\n",
       "         [ 5.76330382e+00, -7.39005003e+00, -6.17338466e+00, ...,\n",
       "           7.51355986e-01, -1.68315311e+00,  1.65039997e+01]],\n",
       "\n",
       "        [[ 7.45852367e-01,  2.35017113e+00,  2.85836416e-01, ...,\n",
       "          -1.04867326e+00, -2.29705278e+00, -2.96774842e+00],\n",
       "         [-3.75897478e+00, -4.38471816e+00,  1.83486092e-01, ...,\n",
       "          -1.96255252e+01, -7.81598188e+00, -4.21210490e+00],\n",
       "         [ 3.03752392e+00, -6.05261514e+00, -3.81111325e+00, ...,\n",
       "           1.92974338e+00,  3.46633003e+00, -5.70862081e+00],\n",
       "         [ 6.88754983e+00, -8.71453385e+00, -7.66539909e+00, ...,\n",
       "           2.41341300e-02, -3.61490635e+00,  2.18447777e+01]]],\n",
       "\n",
       "\n",
       "       [[[ 3.36191860e+00,  5.88306718e+00,  1.37954471e+00, ...,\n",
       "          -6.61533528e+00, -2.84917712e+00,  5.21078739e+00],\n",
       "         [ 4.77544936e+00, -2.71961222e+00, -5.21056321e+00, ...,\n",
       "           4.18004472e+00,  3.94665724e+00, -1.94894745e+00],\n",
       "         [-1.58145954e+00, -2.27523934e+00,  1.08515702e+00, ...,\n",
       "           5.72198681e+00, -7.01022312e+00, -9.86147038e-01],\n",
       "         [ 1.72389341e+00,  1.41254828e-01,  1.90904456e+00, ...,\n",
       "          -7.26879093e+00, -4.28554395e+00,  8.06597950e+00]],\n",
       "\n",
       "        [[ 1.98011595e+00,  5.84734948e+00, -1.09538776e+00, ...,\n",
       "          -6.04948902e+00, -3.38337344e+00,  4.58330447e+00],\n",
       "         [ 4.02688528e+00, -5.43551708e+00,  3.49440304e+00, ...,\n",
       "          -6.04573715e+00,  2.54372983e+00, -3.74886845e-01],\n",
       "         [-2.84054056e+00, -1.38075718e+00,  2.78119193e+00, ...,\n",
       "           4.72941784e+00, -5.85245921e+00, -3.21457202e+00],\n",
       "         [ 1.87721623e+00, -1.63936141e+00,  1.54910738e+00, ...,\n",
       "          -5.01005199e+00, -4.82421009e+00,  7.40592236e+00]],\n",
       "\n",
       "        [[ 9.31064529e-01,  4.80372320e+00, -1.74159980e+00, ...,\n",
       "          -3.56462104e+00, -1.60243769e+00,  2.38061939e+00],\n",
       "         [ 6.93662320e-01, -2.85652774e+00,  2.90932953e+00, ...,\n",
       "          -7.65507679e+00, -9.35908958e+00,  3.52590111e-01],\n",
       "         [-2.73911606e+00, -1.89192826e+00,  6.03538850e+00, ...,\n",
       "           4.69048318e+00, -6.94844372e+00, -5.63085745e+00],\n",
       "         [ 8.70902498e-01, -2.42899852e+00,  3.44890891e+00, ...,\n",
       "          -3.51829690e+00, -7.30279008e-01,  5.86083275e+00]],\n",
       "\n",
       "        ...,\n",
       "\n",
       "        [[ 4.03877874e-01,  1.98364409e+00,  2.10622969e+00, ...,\n",
       "          -4.48828514e+00, -1.95176974e+00, -5.76740261e+00],\n",
       "         [ 5.62326508e+00, -3.98447831e+00,  2.86036044e+00, ...,\n",
       "          -1.41953226e+01, -9.16141451e+00,  6.15726236e+00],\n",
       "         [-3.49676794e-01,  8.95927045e-01, -2.46711734e+00, ...,\n",
       "          -4.05474479e-01,  5.69621624e+00, -9.05620475e+00],\n",
       "         [ 4.42682820e+00, -5.05395885e+00, -4.43874046e+00, ...,\n",
       "           2.54234834e+00, -6.11857959e-01,  1.48359087e+01]],\n",
       "\n",
       "        [[ 6.18365376e-01,  3.11290032e+00, -1.79299671e-01, ...,\n",
       "          -3.55071326e+00, -1.46757058e+00, -6.79582658e+00],\n",
       "         [ 1.74274835e+00, -9.38162287e-01, -5.00643379e-01, ...,\n",
       "          -1.45579316e+01, -1.06760402e+01,  5.35468658e+00],\n",
       "         [ 2.51149050e+00, -3.66918140e+00, -3.53025683e+00, ...,\n",
       "           1.32462340e+00,  4.99590402e+00, -6.67371983e+00],\n",
       "         [ 6.28600487e+00, -7.48125181e+00, -6.40876523e+00, ...,\n",
       "           1.29109114e+00, -5.40597477e-01,  2.19954996e+01]],\n",
       "\n",
       "        [[ 1.23293849e+00,  2.05041165e+00, -6.44026387e-01, ...,\n",
       "          -4.86053942e+00, -2.62728487e-01, -5.68828549e+00],\n",
       "         [-3.51459922e+00, -4.07961730e+00,  2.40220951e+00, ...,\n",
       "          -1.78172674e+01, -6.87951839e+00, -1.90909716e+00],\n",
       "         [ 3.57115168e+00, -7.30189084e+00, -2.08434601e+00, ...,\n",
       "           1.98784805e+00,  2.56362643e+00, -5.20474158e+00],\n",
       "         [ 6.27767805e+00, -9.46501940e+00, -7.39827927e+00, ...,\n",
       "           7.62229242e-01, -1.35561760e+00,  2.86924371e+01]]]])"
      ]
     },
     "execution_count": 21,
     "metadata": {},
     "output_type": "execute_result"
    }
   ],
   "source": [
    "last_group[0][0][0][0]"
   ]
  },
  {
   "cell_type": "code",
   "execution_count": 27,
   "metadata": {},
   "outputs": [
    {
     "ename": "ValueError",
     "evalue": "no field of name data",
     "output_type": "error",
     "traceback": [
      "\u001b[1;31m---------------------------------------------------------------------------\u001b[0m",
      "\u001b[1;31mValueError\u001b[0m                                Traceback (most recent call last)",
      "\u001b[1;32mc:\\Users\\gregu\\Projetos\\SSVEP\\SSVEP\\src\\Beta\\beta_ml.ipynb Cell 38\u001b[0m line \u001b[0;36m5\n\u001b[0;32m      <a href='vscode-notebook-cell:/c%3A/Users/gregu/Projetos/SSVEP/SSVEP/src/Beta/beta_ml.ipynb#X52sZmlsZQ%3D%3D?line=0'>1</a>\u001b[0m \u001b[39m# 0-sub, 1-age, 2-gender, 3-chan, \u001b[39;00m\n\u001b[0;32m      <a href='vscode-notebook-cell:/c%3A/Users/gregu/Projetos/SSVEP/SSVEP/src/Beta/beta_ml.ipynb#X52sZmlsZQ%3D%3D?line=1'>2</a>\u001b[0m \u001b[39m# 4-freqs, 5-phases, 6-bci_quotient,\u001b[39;00m\n\u001b[0;32m      <a href='vscode-notebook-cell:/c%3A/Users/gregu/Projetos/SSVEP/SSVEP/src/Beta/beta_ml.ipynb#X52sZmlsZQ%3D%3D?line=2'>3</a>\u001b[0m \u001b[39m# 7-wide_snr, 8-narrow_snr, 9-srate\u001b[39;00m\n\u001b[1;32m----> <a href='vscode-notebook-cell:/c%3A/Users/gregu/Projetos/SSVEP/SSVEP/src/Beta/beta_ml.ipynb#X52sZmlsZQ%3D%3D?line=4'>5</a>\u001b[0m eeg_data \u001b[39m=\u001b[39m np\u001b[39m.\u001b[39marray([d[\u001b[39m'\u001b[39;49m\u001b[39mdata\u001b[39;49m\u001b[39m'\u001b[39;49m][\u001b[39m0\u001b[39;49m][\u001b[39m0\u001b[39;49m] \u001b[39mfor\u001b[39;49;00m d \u001b[39min\u001b[39;49;00m last_group])\n\u001b[0;32m      <a href='vscode-notebook-cell:/c%3A/Users/gregu/Projetos/SSVEP/SSVEP/src/Beta/beta_ml.ipynb#X52sZmlsZQ%3D%3D?line=5'>6</a>\u001b[0m data \u001b[39m=\u001b[39m info[\u001b[39m0\u001b[39m][\u001b[39m0\u001b[39m][\u001b[39m1\u001b[39m][\u001b[39m0\u001b[39m][\u001b[39m0\u001b[39m]\n\u001b[0;32m      <a href='vscode-notebook-cell:/c%3A/Users/gregu/Projetos/SSVEP/SSVEP/src/Beta/beta_ml.ipynb#X52sZmlsZQ%3D%3D?line=7'>8</a>\u001b[0m chs \u001b[39m=\u001b[39m [d[\u001b[39m3\u001b[39m][\u001b[39m0\u001b[39m] \u001b[39mfor\u001b[39;00m d \u001b[39min\u001b[39;00m data[\u001b[39m3\u001b[39m]]\n",
      "\u001b[1;32mc:\\Users\\gregu\\Projetos\\SSVEP\\SSVEP\\src\\Beta\\beta_ml.ipynb Cell 38\u001b[0m line \u001b[0;36m5\n\u001b[0;32m      <a href='vscode-notebook-cell:/c%3A/Users/gregu/Projetos/SSVEP/SSVEP/src/Beta/beta_ml.ipynb#X52sZmlsZQ%3D%3D?line=0'>1</a>\u001b[0m \u001b[39m# 0-sub, 1-age, 2-gender, 3-chan, \u001b[39;00m\n\u001b[0;32m      <a href='vscode-notebook-cell:/c%3A/Users/gregu/Projetos/SSVEP/SSVEP/src/Beta/beta_ml.ipynb#X52sZmlsZQ%3D%3D?line=1'>2</a>\u001b[0m \u001b[39m# 4-freqs, 5-phases, 6-bci_quotient,\u001b[39;00m\n\u001b[0;32m      <a href='vscode-notebook-cell:/c%3A/Users/gregu/Projetos/SSVEP/SSVEP/src/Beta/beta_ml.ipynb#X52sZmlsZQ%3D%3D?line=2'>3</a>\u001b[0m \u001b[39m# 7-wide_snr, 8-narrow_snr, 9-srate\u001b[39;00m\n\u001b[1;32m----> <a href='vscode-notebook-cell:/c%3A/Users/gregu/Projetos/SSVEP/SSVEP/src/Beta/beta_ml.ipynb#X52sZmlsZQ%3D%3D?line=4'>5</a>\u001b[0m eeg_data \u001b[39m=\u001b[39m np\u001b[39m.\u001b[39marray([d[\u001b[39m'\u001b[39;49m\u001b[39mdata\u001b[39;49m\u001b[39m'\u001b[39;49m][\u001b[39m0\u001b[39m][\u001b[39m0\u001b[39m] \u001b[39mfor\u001b[39;00m d \u001b[39min\u001b[39;00m last_group])\n\u001b[0;32m      <a href='vscode-notebook-cell:/c%3A/Users/gregu/Projetos/SSVEP/SSVEP/src/Beta/beta_ml.ipynb#X52sZmlsZQ%3D%3D?line=5'>6</a>\u001b[0m data \u001b[39m=\u001b[39m info[\u001b[39m0\u001b[39m][\u001b[39m0\u001b[39m][\u001b[39m1\u001b[39m][\u001b[39m0\u001b[39m][\u001b[39m0\u001b[39m]\n\u001b[0;32m      <a href='vscode-notebook-cell:/c%3A/Users/gregu/Projetos/SSVEP/SSVEP/src/Beta/beta_ml.ipynb#X52sZmlsZQ%3D%3D?line=7'>8</a>\u001b[0m chs \u001b[39m=\u001b[39m [d[\u001b[39m3\u001b[39m][\u001b[39m0\u001b[39m] \u001b[39mfor\u001b[39;00m d \u001b[39min\u001b[39;00m data[\u001b[39m3\u001b[39m]]\n",
      "\u001b[1;31mValueError\u001b[0m: no field of name data"
     ]
    }
   ],
   "source": [
    "# 0-sub, 1-age, 2-gender, 3-chan, \n",
    "# 4-freqs, 5-phases, 6-bci_quotient,\n",
    "# 7-wide_snr, 8-narrow_snr, 9-srate\n",
    "\n",
    "eeg_data = np.array([d[0][0][0][0] for d in last_group])\n",
    "data = info[0][0][1][0][0]\n",
    "\n",
    "chs = [d[3][0] for d in data[3]]\n",
    "labels = data[4][0]\n",
    "eeg = eeg_data.transpose(0, 4, 3, 1, 2)\n",
    "\n",
    "print(len(chs), chs)\n",
    "print(labels.shape, labels)\n",
    "print(eeg.shape)"
   ]
  },
  {
   "cell_type": "code",
   "execution_count": null,
   "metadata": {},
   "outputs": [],
   "source": [
    "# média dos 10 últimos participantes\n",
    "eeg1 = np.average(eeg, axis=0)\n",
    "print(eeg1.shape)\n",
    "\n",
    "# média dos 4 blocos\n",
    "eeg2 = np.average(eeg1, axis=1)\n",
    "print(eeg2.shape)\n",
    "\n",
    "# separando os eletrodos entendidos como \"bons\": Pz, PO3, PO5, PO4, PO6, POz, \n",
    "# O1, Oz e O2.\n",
    "print([(i, ch) for i, ch in enumerate(chs)])\n",
    "eeg3 = eeg2[:, [47, 54, 53, 56, 57, 55, 60, 61, 62], :]\n",
    "print(eeg3.shape)\n",
    "\n",
    "# média dos 9 eletrodos escolhidos\n",
    "eeg4 = np.average(eeg3, axis=1)\n",
    "print(eeg4.shape)\n",
    "\n",
    "# dados sem a parte basal\n",
    "X = eeg4[:, 125:-125]\n",
    "print(X.shape)"
   ]
  },
  {
   "cell_type": "code",
   "execution_count": null,
   "metadata": {},
   "outputs": [],
   "source": [
    "import matplotlib.pyplot as plt\n",
    "\n",
    "\n",
    "for i in range(40):\n",
    "    \n",
    "    target = float(f\"{labels[i]:.1f}\")\n",
    "    w = np.fft.fft(X, axis=1)\n",
    "    freqs = np.fft.fftfreq(X.shape[1], (1 / 250))\n",
    "\n",
    "    plt.figure(figsize=(8, 4))\n",
    "    plt.plot(freqs, np.abs(w[i]))\n",
    "    plt.xlabel('Frequência (Hz)')\n",
    "    plt.ylabel('Amplitude')\n",
    "    plt.xlim(0, 60)\n",
    "    plt.axvline(x=target, linestyle='--', linewidth=.8, color='red')\n",
    "    plt.text(target + 0.5, np.max(np.abs(w[i]))-10, str(target), color='red')\n",
    "    plt.grid()\n",
    "    plt.show()"
   ]
  }
 ],
 "metadata": {
  "kernelspec": {
   "display_name": "venv",
   "language": "python",
   "name": "python3"
  },
  "language_info": {
   "codemirror_mode": {
    "name": "ipython",
    "version": 3
   },
   "file_extension": ".py",
   "mimetype": "text/x-python",
   "name": "python",
   "nbconvert_exporter": "python",
   "pygments_lexer": "ipython3",
   "version": "3.11.3"
  },
  "orig_nbformat": 4
 },
 "nbformat": 4,
 "nbformat_minor": 2
}

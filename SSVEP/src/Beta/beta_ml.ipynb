{
 "cells": [
  {
   "cell_type": "markdown",
   "metadata": {},
   "source": [
    "## Análise da base de dados `Beta` utilizando algoritmos de ML\n",
    "\n",
    "Neste notebook será analisado o `Beta dataset` utilizando algoritmos de ML para realizar a (1) extração de características, (2) seleção de características e (3) classificação dos dados\n",
    "\n",
    "### Pontos importantes do dataset\n",
    "\n",
    "- Frequências estimuladas (total de 40, com a diferença de 0.2 Hz uma da outra): 8.0, 8.2, ..., 15.6, 15.8;\n",
    "- Taxa de amostragem: 250 Hz"
   ]
  },
  {
   "cell_type": "markdown",
   "metadata": {},
   "source": [
    "### Analisar os \"momentos\" em que ocorrem evocação do sinal SSVEP\n",
    "\n",
    "1. Criar o objeto `MNE` a partir dos dados dados do participante;\n",
    "2. Aplicar no objeto `MNE` o filtro passa-faixa nos valores de 6 - 18 Hz;\n",
    "3. Criar cópias do objeto `MNE` com fatias de tempo menores para analisar momentos que ocorrem estimulos ou não (verificar artigo);\n",
    "    a) 0.0 - 0.5 segundos e 2.5 - 3.0 segundos ocorre apenas ruído;\n",
    "    b) 0.5 - 2.5 segundos ocorre sinal SSVEP (com ruídos)\n",
    "4. Com os sinais separados em objetos `MNE`, aplicar a `FFT`, para que seja possível plotar gráficos que contenham (ou não) as informações.\n",
    "    - Os dados devem ser plotados no domínio da frequência (após a transformada de Fourier). O FFT pode ser realizado pela biblioteca `scipy.fft`.\n",
    "    - Deve ser observado que as janelas (a) com ruído não aparecerão de fato o sinal SSVEP."
   ]
  },
  {
   "cell_type": "markdown",
   "metadata": {},
   "source": [
    "### Extração de características\n",
    "\n",
    "Uma característica importante de acordo com o artigo base do dataset `BETA` é o *signal-to-noise ratio* (SNR).\n",
    "São dois tipos de características SNR que podem ser implementadas: SNR de banda estreita (`narrow-SNR`) e SNR de banda larga (`wide-band SNR`).\n",
    "\n",
    "Uma boa prática, é considerar o ruído das medidas de `SNR`, uma vez que os dados `SSVEP` não estão estimulados durante os períodos de 0 a 0,5 segundos e de 2,5 a 3 segundos. O ruído pode afetar a precisão das medidas de `SNR` e, portanto, é aconselhável levar isso em consideração.\n",
    "\n",
    "Vamos realizar todos esses cálculos com dados fictícios:"
   ]
  },
  {
   "cell_type": "markdown",
   "metadata": {},
   "source": [
    "# Carregando os dados"
   ]
  },
  {
   "cell_type": "code",
   "execution_count": 69,
   "metadata": {},
   "outputs": [],
   "source": [
    "%matplotlib inline\n",
    "import numpy as np\n",
    "from sklearn.preprocessing import LabelEncoder\n",
    "import mne\n",
    "from sklearn.preprocessing import LabelEncoder\n",
    "from sklearn.model_selection import train_test_split, GridSearchCV, StratifiedKFold\n",
    "from sklearn.preprocessing import StandardScaler, LabelEncoder, MinMaxScaler\n",
    "from sklearn.svm import SVC\n",
    "from sklearn import svm\n",
    "from copy import deepcopy\n",
    "from scipy.io import loadmat\n",
    "from sklearn.metrics import accuracy_score, f1_score\n",
    "from sklearn.feature_selection import RFECV, SelectKBest, chi2\n",
    "import itertools\n",
    "from joblib import Parallel, delayed"
   ]
  },
  {
   "cell_type": "markdown",
   "metadata": {},
   "source": [
    "Carregando dados"
   ]
  },
  {
   "cell_type": "code",
   "execution_count": 2,
   "metadata": {},
   "outputs": [
    {
     "name": "stdout",
     "output_type": "stream",
     "text": [
      "(64, 750, 160) (160,)\n"
     ]
    }
   ],
   "source": [
    "data = loadmat(f\"../../dataset/beta/S12.mat\")['data'][0][0]\n",
    "eeg_data = data[0]\n",
    "eeg = eeg_data.reshape(eeg_data.shape[0], eeg_data.shape[1], eeg_data.shape[2] * eeg_data.shape[3])\n",
    "labels = np.array(list(data[1]['freqs'][0][0].flatten()) * 4)\n",
    "print(eeg.shape, labels.shape)"
   ]
  },
  {
   "cell_type": "code",
   "execution_count": 3,
   "metadata": {},
   "outputs": [
    {
     "name": "stdout",
     "output_type": "stream",
     "text": [
      "(160, 64, 750)\n"
     ]
    }
   ],
   "source": [
    "data_correct = eeg.swapaxes(0, 2)\n",
    "data_correct = data_correct.swapaxes(1, 2)\n",
    "print(data_correct.shape)"
   ]
  },
  {
   "cell_type": "markdown",
   "metadata": {},
   "source": [
    "Agora iremos estimar o ruído de fundo, para calcular posteriormente o `narrow SNR` e o `wide-band SNR`. "
   ]
  },
  {
   "cell_type": "code",
   "execution_count": 4,
   "metadata": {},
   "outputs": [
    {
     "name": "stdout",
     "output_type": "stream",
     "text": [
      "(160, 64, 750)\n",
      "(160,)\n",
      "28376881.989714384\n"
     ]
    }
   ],
   "source": [
    "dataset = deepcopy(data_correct)\n",
    "print(dataset.shape)\n",
    "\n",
    "# intervalos de tempo sem estímulo (0 a 0,5 segundos e 2,5 a 3 segundos)\n",
    "base_start = 0\n",
    "base_end = 125\n",
    "rest_start = 625\n",
    "rest_end = 750\n",
    "\n",
    "# Estimando o ruído de fundo\n",
    "estimated_background_noise = []\n",
    "\n",
    "for trial in dataset: #para cada sinal   \n",
    "    noise_power = [] # armazena uma lista com as médias de potência para cada canal\n",
    "\n",
    "    for electrode in trial:\n",
    "        psd = np.abs(np.fft.fft(electrode)) ** 2\n",
    "\n",
    "        # média da potência nos intervalos de tempo sem estímulo\n",
    "        base_power = np.mean(psd[base_start:base_end])\n",
    "        rest_power = np.mean(psd[rest_start:rest_end])\n",
    "        mean_noise_power = (base_power + rest_power) / 2\n",
    "\n",
    "        noise_power.append(mean_noise_power)\n",
    "\n",
    "    #média das médias de potência de todos os canais para estimar o ruído de fundo\n",
    "    estimated_background_noise.append(np.mean(noise_power))\n",
    "# end\n",
    "\n",
    "\n",
    "background_noise = np.array(estimated_background_noise)\n",
    "print(background_noise.shape)\n",
    "print(np.mean(background_noise))"
   ]
  },
  {
   "cell_type": "code",
   "execution_count": 57,
   "metadata": {},
   "outputs": [
    {
     "data": {
      "text/plain": [
       "28376881.989714384"
      ]
     },
     "execution_count": 57,
     "metadata": {},
     "output_type": "execute_result"
    }
   ],
   "source": [
    "teste = np.mean(background_noise)\n",
    "teste"
   ]
  },
  {
   "cell_type": "markdown",
   "metadata": {},
   "source": [
    "Antes de calcular os SNRs, precisamos obter as amplitudes alvo por meio dos dados EEG:"
   ]
  },
  {
   "cell_type": "code",
   "execution_count": 5,
   "metadata": {},
   "outputs": [
    {
     "data": {
      "text/plain": [
       "(160, 64, 40)"
      ]
     },
     "execution_count": 5,
     "metadata": {},
     "output_type": "execute_result"
    }
   ],
   "source": [
    "from scipy.signal import find_peaks\n",
    "\n",
    "sr = 250\n",
    "\n",
    "# frequências alvo\n",
    "target_frequencies = np.arange(8, 16, 0.2)\n",
    "# lista para armazenar as amplitudes nas frequências alvo\n",
    "target_amplitudes = []\n",
    "\n",
    "for x in range(dataset.shape[0]):\n",
    "    samples = []\n",
    "    \n",
    "    for channel_data in dataset[x, :, :]:\n",
    "        fft_result = np.fft.fft(channel_data)\n",
    "        psd = np.abs(fft_result) ** 2\n",
    "        frequencies = np.fft.fftfreq(len(fft_result), 1 / sr)\n",
    "        target_amplitudes_trial = []\n",
    "        for target_frequency in target_frequencies:\n",
    "        # encontrando o índice da frequência alvo no espectro de frequência\n",
    "            index = np.argmin(np.abs(frequencies - target_frequency))\n",
    "            # amplitude na frequência alvo\n",
    "            amplitude = np.sqrt(psd[index])\n",
    "            target_amplitudes_trial.append(amplitude)\n",
    "        samples.append(target_amplitudes_trial)\n",
    "    target_amplitudes.append(samples)\n",
    "target_amplitudes = np.array(target_amplitudes)\n",
    "target_amplitudes.shape"
   ]
  },
  {
   "cell_type": "markdown",
   "metadata": {},
   "source": [
    "Vamos calcular o SNR de \"banda estreita\". Pode ser observado pela seguinte equação:\n",
    "\n",
    "$SNR_{banda\\ estreita} = 10 \\cdot \\log_{10}\\left(\\frac{\\text{energia total do espectro}}{\\text{média das amplitudes nas frequências vizinhas}}\\right)$\n",
    "\n",
    "Já o SNR de banda larga é definido da seguinte forma:\n",
    "\n",
    "$SNR_{banda\\ larga} = 10 \\cdot \\log_{10}\\left(\\frac{\\text{energia total do espectro}}{\\text{energia total do espectro de amplitude}}\\right)$"
   ]
  },
  {
   "cell_type": "code",
   "execution_count": 58,
   "metadata": {},
   "outputs": [],
   "source": [
    "def narrow_band_SNR(target_amplitudes, estimated_background_noise):\n",
    "  target_amplitudes_adjusted = np.abs(target_amplitudes - teste)\n",
    "  return 10 * np.log10(target_amplitudes_adjusted / teste)\n",
    "\n",
    "def wide_band_SNR(target_amplitudes, estimated_background_noise):\n",
    "  target_amplitudes_adjusted = np.abs(target_amplitudes - teste)\n",
    "  total_power = np.sum(target_amplitudes_adjusted)\n",
    "  return 10 * np.log10(target_amplitudes_adjusted / total_power)"
   ]
  },
  {
   "cell_type": "markdown",
   "metadata": {},
   "source": [
    "# Remoção manual de caracteristicas"
   ]
  },
  {
   "cell_type": "code",
   "execution_count": 59,
   "metadata": {},
   "outputs": [
    {
     "name": "stdout",
     "output_type": "stream",
     "text": [
      "(160, 64, 80)\n"
     ]
    }
   ],
   "source": [
    "X = []\n",
    "y = labels\n",
    "\n",
    "for i, trial in enumerate(dataset):\n",
    "  X.append([\n",
    "    narrow_band_SNR(target_amplitudes[i], background_noise[i]),\n",
    "    wide_band_SNR(target_amplitudes[i], background_noise[i])\n",
    "  ])\n",
    "  \n",
    "X = np.array(X)\n",
    "X = X.swapaxes(1, 2)\n",
    "X = X.reshape(X.shape[0], X.shape[1], X.shape[2]*X.shape[3])\n",
    "print(X.shape)"
   ]
  },
  {
   "cell_type": "code",
   "execution_count": 44,
   "metadata": {},
   "outputs": [
    {
     "name": "stdout",
     "output_type": "stream",
     "text": [
      "accuracy 0.020833333333333332\n",
      "f1_score 0.013888888888888888\n"
     ]
    }
   ],
   "source": [
    "# Remoção\n",
    "# opções: ['PZ', 'PO3', 'PO5', 'PO4', 'PO6', 'POZ', 'O1', 'OZ', 'O2'] -> [47, 53, 54, 55, 56, 57, 60, 61, 62]\n",
    "Xmanual = deepcopy(X)\n",
    "Xmanual = Xmanual[:,[47, 53, 54, 55, 56, 57, 60, 61, 62],:]\n",
    "Xmanual = Xmanual.reshape(Xmanual.shape[0], Xmanual.shape[1]*Xmanual.shape[2])\n",
    "\n",
    "#preparing\n",
    "Xmanual = StandardScaler().fit_transform(Xmanual)\n",
    "ym = LabelEncoder().fit_transform(y)\n",
    "\n",
    "x_train, x_test, y_train, y_test = train_test_split(Xmanual, ym, test_size=0.3, random_state=42)\n",
    "\n",
    "clf = SVC(kernel='linear', C=1, random_state=42, probability=True)\n",
    "clf.fit(x_train, y_train)\n",
    "y_pred = clf.predict(x_test)\n",
    "\n",
    "print(\"accuracy\", accuracy_score(y_test, y_pred))\n",
    "print(\"f1_score\", f1_score(y_test, y_pred, average=\"weighted\"))"
   ]
  },
  {
   "cell_type": "markdown",
   "metadata": {},
   "source": [
    "# Remoção automática de caracteristicas"
   ]
  },
  {
   "cell_type": "code",
   "execution_count": 67,
   "metadata": {},
   "outputs": [],
   "source": [
    "#Cs e gammas são listas com os valores a serem avaliados para os respectivos parâmetros.\n",
    "def selecionar_melhor_svm(Cs, gammas, X_treino : np.ndarray, X_val : np.ndarray, \n",
    "                          y_treino : np.ndarray, y_val : np.ndarray, n_jobs=4):\n",
    "    \n",
    "    def treinar_svm(C, gamma, X_treino, X_val, y_treino, y_val):\n",
    "        svm = SVC(C=C, gamma=gamma)\n",
    "        svm.fit(X_treino, y_treino)\n",
    "        pred = svm.predict(X_val)\n",
    "        return accuracy_score(y_val, pred)\n",
    "    \n",
    "    #gera todas as combinações de parametros C e gamma, de acordo com as listas de valores recebidas por parametro.\n",
    "    #Na prática faz o produto cartesiano entre Cs e gammas.\n",
    "    combinacoes_parametros = list(itertools.product(Cs, gammas))\n",
    "    \n",
    "    #Treinar modelos com todas as combinações de C e gamma\n",
    "    acuracias_val = Parallel(n_jobs=n_jobs)(delayed(treinar_svm)\n",
    "                                       (c, g, X_treino, X_val, y_treino, y_val) for c, g in combinacoes_parametros)       \n",
    "    \n",
    "    melhor_val = max(acuracias_val)\n",
    "    #Encontrar a combinação que levou ao melhor resultado no conjunto de validação\n",
    "    melhor_comb = combinacoes_parametros[np.argmax(acuracias_val)]   \n",
    "    melhor_c = melhor_comb[0]\n",
    "    melhor_gamma = melhor_comb[1]\n",
    "    \n",
    "    #Treinar uma SVM com todos os dados de treino e validação usando a melhor combinação de C e gamma.\n",
    "    svm = SVC(C=melhor_c, gamma=melhor_gamma)\n",
    "    svm.fit(np.vstack((X_treino, X_val)), [*y_treino, *y_val])\n",
    "\n",
    "    return svm, melhor_comb, melhor_val\n",
    "\n",
    "#Implementa a validação cruzada para avaliar o desempenho da SVM na base de dados com as instâncias X e as saídas y.\n",
    "#cv_splits indica o número de partições que devem ser criadas.\n",
    "#Cs é a lista com os valores C que devem ser avaliados na busca exaustiva de parametros para a SVM.\n",
    "#gammas s é a lista com os valores gamma que devem ser avaliados na busca exaustiva de parametros para a SVM.\n",
    "def do_cv_svm(X, y, cv_splits, Cs=[1], gammas=['scale']):\n",
    "\n",
    "    skf = StratifiedKFold(n_splits=cv_splits, shuffle=True, random_state=1)\n",
    "\n",
    "    acuracias = []\n",
    "    \n",
    "    #pgb = tqdm(total=cv_splits, desc='Folds avaliados')\n",
    "    \n",
    "    for treino_idx, teste_idx in skf.split(X, y):\n",
    "\n",
    "        X_treino = X[treino_idx]\n",
    "        y_treino = y[treino_idx]\n",
    "\n",
    "        X_teste = X[teste_idx]\n",
    "        y_teste = y[teste_idx]\n",
    "\n",
    "        X_treino, X_val, y_treino, y_val = train_test_split(X_treino, y_treino, test_size=0.2, random_state=42)\n",
    "\n",
    "        ss = StandardScaler()\n",
    "        ss.fit(X_treino)\n",
    "        X_treino = ss.transform(X_treino)\n",
    "        X_teste = ss.transform(X_teste)\n",
    "        X_val = ss.transform(X_val)\n",
    "\n",
    "        svm, _, _ = selecionar_melhor_svm(Cs, gammas, X_treino, X_val, y_treino, y_val)\n",
    "        pred = svm.predict(X_teste)\n",
    "\n",
    "        acuracias.append(accuracy_score(y_teste, pred))\n",
    "        \n",
    "        #pgb.update(1)\n",
    "        \n",
    "    #pgb.close()\n",
    "    \n",
    "    return acuracias"
   ]
  },
  {
   "cell_type": "code",
   "execution_count": 60,
   "metadata": {},
   "outputs": [
    {
     "name": "stdout",
     "output_type": "stream",
     "text": [
      "(160, 64, 80)\n"
     ]
    }
   ],
   "source": [
    "X = []\n",
    "y = labels\n",
    "\n",
    "for i, trial in enumerate(dataset):\n",
    "  X.append([\n",
    "    narrow_band_SNR(target_amplitudes[i], background_noise[i]),\n",
    "    wide_band_SNR(target_amplitudes[i], background_noise[i])\n",
    "  ])\n",
    "  \n",
    "X = np.array(X)\n",
    "X = X.swapaxes(1, 2)\n",
    "X = X.reshape(X.shape[0], X.shape[1], X.shape[2]*X.shape[3])\n",
    "print(X.shape)"
   ]
  },
  {
   "cell_type": "code",
   "execution_count": 72,
   "metadata": {},
   "outputs": [
    {
     "name": "stdout",
     "output_type": "stream",
     "text": [
      "(160, 5120) (160,)\n",
      "(160, 1)\n",
      " para k = 1\n",
      "min: 0.00, max: 0.06, avg +- std: 0.02 +- 0.02\n",
      "(160, 2)\n",
      " para k = 2\n",
      "min: 0.00, max: 0.06, avg +- std: 0.02 +- 0.02\n",
      "(160, 4)\n",
      " para k = 4\n",
      "min: 0.02, max: 0.04, avg +- std: 0.03 +- 0.01\n",
      "(160, 8)\n",
      " para k = 8\n",
      "min: 0.02, max: 0.04, avg +- std: 0.02 +- 0.01\n",
      "(160, 16)\n",
      " para k = 16\n",
      "min: 0.04, max: 0.04, avg +- std: 0.04 +- 0.00\n",
      "(160, 32)\n",
      " para k = 32\n",
      "min: 0.08, max: 0.13, avg +- std: 0.10 +- 0.02\n",
      "(160, 64)\n",
      " para k = 64\n",
      "min: 0.08, max: 0.11, avg +- std: 0.09 +- 0.02\n",
      "(160, 128)\n",
      " para k = 128\n",
      "min: 0.13, max: 0.23, avg +- std: 0.18 +- 0.04\n",
      "(160, 256)\n",
      " para k = 256\n",
      "min: 0.17, max: 0.32, avg +- std: 0.26 +- 0.06\n",
      "(160, 512)\n",
      " para k = 512\n",
      "min: 0.20, max: 0.34, avg +- std: 0.26 +- 0.06\n"
     ]
    }
   ],
   "source": [
    "# preparing\n",
    "Xauto = deepcopy(X)\n",
    "Xauto = Xauto.reshape(Xauto.shape[0], Xauto.shape[1]*Xauto.shape[2])\n",
    "Xauto = StandardScaler().fit_transform(Xauto)\n",
    "#Xauto = MinMaxScaler().fit_transform(Xauto)\n",
    "ya = LabelEncoder().fit_transform(y)\n",
    "print(Xauto.shape, ya.shape)\n",
    "\n",
    "#rfe\n",
    "#rfe = RFECV(svm.SVC(kernel=\"linear\"), step=0.0001, min_features_to_select=1, cv=3)\n",
    "#X_final = rfe.fit_transform(Xauto, ya)\n",
    "#print(X_final.shape)\n",
    "\n",
    "#kbest\n",
    "ks = [2**i for i in range ( 10 ) ]\n",
    "for k in ks:\n",
    "    \n",
    "    kbest= SelectKBest(k=k)\n",
    "    X_final = kbest.fit_transform(Xauto,ya)\n",
    "    print(X_final.shape)\n",
    "\n",
    "    accs_svm = do_cv_svm(X_final, ya, 3, Cs=[1, 10, 100, 1000], gammas=['scale', 'auto', 2e-2, 2e-3, 2e-4])\n",
    "    print ( f\" para k = {k}\")\n",
    "    print(\"min: %.2f, max: %.2f, avg +- std: %.2f +- %.2f\" % (min(accs_svm), max(accs_svm), np.mean(accs_svm), np.std(accs_svm)))\n",
    "    #svm\n",
    "    #x_train, x_test, y_train, y_test = train_test_split(X_final, ya, test_size=0.3, random_state=42)\n",
    "    \n",
    "    #clf = SVC(kernel='linear', C=1, random_state=42, probability=True)\n",
    "    #clf.fit(x_train, y_train)\n",
    "    #y_pred = clf.predict(x_test)\n",
    "    \n",
    "    #svm cross validation\n",
    "    #accs = do_cv_svm(X_final,ya,3)\n",
    "    #print(f\"média : {np.mean(accs)}\")\n",
    "\n",
    "    #print(\"accuracy\", accuracy_score(y_test, y_pred))\n",
    "    #print(\"f1_score\", f1_score(y_test, y_pred, average=\"weighted\"))\n",
    "    "
   ]
  },
  {
   "cell_type": "markdown",
   "metadata": {},
   "source": [
    "Ao final desta etapa, será obtido um vetor de características. Estas podem ser:\n",
    "- `narrow SNR` (brigatória);\n",
    "- `wide-band SNR` (brigatória);\n",
    "- Maior valor espectral (FFT);\n",
    "- Média dos valores espectrais (FFT).\n",
    "\n",
    "Dimensionalidade dos dados será explicada da seguinte forma:\n",
    "\n",
    "`40, 4, 64, 750` -> 40 targets, 4 trials, 64 canais e 750 valores\n",
    "`160, 64 (SNR) + 64 (média) + 64 (maior) ...`\n",
    "Resultando em `160, 192`."
   ]
  },
  {
   "cell_type": "markdown",
   "metadata": {},
   "source": [
    "### Seleção de características e classificação\n",
    "\n",
    "Como existem diversos eletrodos (canais) que não obtém sinal SSVEP, podemos extrair as caracteríscas que não contribuem para a classificação dos dados.\n",
    "\n",
    "Podemos utilizar o método `RFE` (*Recursive Feature Elimination*) aplicado por meio de `sklearn.feature_selection.RFE`, aprimorando o parâmetro `n_features_to_select` até obter o melhor resultado de classificação.\n",
    "\n",
    "Para a classificação propriamente dita, é considerado o uso do método `SVM`."
   ]
  }
 ],
 "metadata": {
  "kernelspec": {
   "display_name": "Python 3 (ipykernel)",
   "language": "python",
   "name": "python3"
  },
  "language_info": {
   "codemirror_mode": {
    "name": "ipython",
    "version": 3
   },
   "file_extension": ".py",
   "mimetype": "text/x-python",
   "name": "python",
   "nbconvert_exporter": "python",
   "pygments_lexer": "ipython3",
   "version": "3.10.12"
  }
 },
 "nbformat": 4,
 "nbformat_minor": 4
}

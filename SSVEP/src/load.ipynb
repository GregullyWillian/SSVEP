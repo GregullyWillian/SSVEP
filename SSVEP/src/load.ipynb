{
 "cells": [
  {
   "cell_type": "markdown",
   "metadata": {},
   "source": [
    "# Carregamento dos dados referentes ao artigo 'The AV SSVEP Dataset'"
   ]
  },
  {
   "cell_type": "code",
   "execution_count": 1,
   "metadata": {},
   "outputs": [],
   "source": [
    "# Imports\n",
    "from scipy.io import loadmat\n",
    "import numpy as np\n",
    "import math\n",
    "\n",
    "#Nota na hora de salvar os dados deixar tipo, 4, 21, 15360 "
   ]
  },
  {
   "cell_type": "markdown",
   "metadata": {},
   "source": [
    "## Carregamento dos dados Single"
   ]
  },
  {
   "cell_type": "code",
   "execution_count": null,
   "metadata": {},
   "outputs": [],
   "source": [
    "# Pré carregamento\n",
    "\n",
    "avi_data = list()\n",
    "for i in range(1, 5):\n",
    "    avi_data.append(loadmat(f\"../dataset/sc/DataSet_A_2/single/Sub{i}_singletarget.mat\"))\n",
    "    \n",
    "#print(data[0]['Data'])\n",
    "#print(data[0]['Data'][0][0][-1])\n",
    "#print(data[0]['Data'][0][0][0].shape)\n",
    "#print(data[0]['Data'][0][0][-1].shape)"
   ]
  },
  {
   "cell_type": "code",
   "execution_count": null,
   "metadata": {},
   "outputs": [],
   "source": [
    "# extração direta dos dados\n",
    "\n",
    "X_data = [d['Data'][0][0][0] for d in avi_data]\n",
    "y_data = [d['Data'][0][0][1] for d in avi_data]\n",
    "\n",
    "print(\"Divisão dos dados:\")\n",
    "for data in X_data:\n",
    "    print(data.shape)\n",
    "\n",
    "print(\"\\nDivisão dos rótulos (sequências):\")\n",
    "for data in y_data:\n",
    "    print(data)"
   ]
  },
  {
   "cell_type": "code",
   "execution_count": null,
   "metadata": {},
   "outputs": [],
   "source": [
    "\n",
    "dados = list()\n",
    "labels = list()\n",
    "\n",
    "dados.append(X_data[0][:, list(set(range(27)) - set([3, 4, 5, 12, 13, 14]))])\n",
    "labels.append(y_data[0][:, list(set(range(27)) - set([3, 4, 5, 12, 13, 14]))])\n",
    "        \n",
    "dados.append(X_data[1][:, list(set(range(26)) - set([6, 16, 17, 18, 22]))])\n",
    "labels.append(y_data[1][:, list(set(range(26)) - set([6, 16, 17, 18, 22]))])\n",
    "        \n",
    "dados.append(X_data[2])\n",
    "labels.append(y_data[2])\n",
    "        \n",
    "dados.append(X_data[3])\n",
    "labels.append(y_data[3])\n",
    "\n",
    "data = np.array(dados)\n",
    "label = np.array(labels)\n",
    "np.save(\"../dataset/sc/DataSet_A_2/single/data_unificada.npy\", data)\n",
    "np.save(\"../dataset/sc/DataSet_A_2/single/label_unificada.npy\", label)"
   ]
  },
  {
   "cell_type": "markdown",
   "metadata": {},
   "source": [
    "## Carregamento dos dados multi\n"
   ]
  },
  {
   "cell_type": "code",
   "execution_count": null,
   "metadata": {},
   "outputs": [],
   "source": [
    "# Pré carregamento\n",
    "\n",
    "avi_data = list()\n",
    "j = 1\n",
    "k = 1\n",
    "for i in range(1, 11):\n",
    "    if j == 3:\n",
    "        j = 1\n",
    "    avi_data.append(loadmat(f\"../dataset/sc/DataSet_A_2/multi/Sub{math.ceil(i / 2)}_{j}_multitarget.mat\"))\n",
    "    j += 1"
   ]
  },
  {
   "cell_type": "code",
   "execution_count": null,
   "metadata": {},
   "outputs": [],
   "source": [
    "# extração direta dos dados\n",
    "# 8192 / 512 == 16 segundos em cada frequencia\n",
    "#Transpor os dados para que fique (10, 8192)\n",
    "X_data = [d['Data'][0][0][7].T for d in avi_data]\n",
    "y_data = [d['Data'][0][0][8][0] for d in avi_data]\n",
    "\n",
    "print(\"Divisão dos dados:\")\n",
    "for data in X_data:\n",
    "    print(data.shape)\n",
    "\n",
    "print(\"\\nDivisão dos rótulos (sequências):\")\n",
    "for data in y_data:\n",
    "    print(data)"
   ]
  },
  {
   "cell_type": "code",
   "execution_count": null,
   "metadata": {},
   "outputs": [],
   "source": [
    "dados = list()\n",
    "labels = list()\n",
    "\n",
    "for i in range(10):\n",
    "    dados.append(X_data[i])\n",
    "    labels.append(y_data[i])\n",
    "\n",
    "data = np.array(dados)\n",
    "label = np.array(labels)\n",
    "\n",
    "np.save(\"../dataset/sc/DataSet_A_2/multi/data_unificada.npy\", data)\n",
    "np.save(\"../dataset/sc/DataSet_A_2/multi/label_unificada.npy\", label)"
   ]
  },
  {
   "cell_type": "code",
   "execution_count": null,
   "metadata": {},
   "outputs": [],
   "source": [
    "label.shape"
   ]
  },
  {
   "cell_type": "code",
   "execution_count": null,
   "metadata": {},
   "outputs": [],
   "source": [
    "data.shape"
   ]
  },
  {
   "cell_type": "markdown",
   "metadata": {},
   "source": [
    "# Carregamento do DataSet Beta (sujeito 12)"
   ]
  },
  {
   "cell_type": "code",
   "execution_count": 5,
   "metadata": {},
   "outputs": [],
   "source": [
    "data = loadmat(\"../dataset/beta/S12.mat\")['data'][0][0]\n",
    "np.save(\"../dataset/beta/data_label_unificado.npy\", data)"
   ]
  },
  {
   "cell_type": "code",
   "execution_count": 6,
   "metadata": {},
   "outputs": [
    {
     "ename": "ValueError",
     "evalue": "no field of name data",
     "output_type": "error",
     "traceback": [
      "\u001b[1;31m---------------------------------------------------------------------------\u001b[0m",
      "\u001b[1;31mValueError\u001b[0m                                Traceback (most recent call last)",
      "\u001b[1;32mc:\\Users\\gregu\\Projetos\\SSVEP\\SSVEP\\src\\load.ipynb Cell 15\u001b[0m line \u001b[0;36m1\n\u001b[1;32m----> <a href='vscode-notebook-cell:/c%3A/Users/gregu/Projetos/SSVEP/SSVEP/src/load.ipynb#X23sZmlsZQ%3D%3D?line=0'>1</a>\u001b[0m X \u001b[39m=\u001b[39m np\u001b[39m.\u001b[39marray(data[\u001b[39m'\u001b[39;49m\u001b[39mdata\u001b[39;49m\u001b[39m'\u001b[39;49m][\u001b[39m0\u001b[39m][\u001b[39m0\u001b[39m][\u001b[39m0\u001b[39m])\n\u001b[0;32m      <a href='vscode-notebook-cell:/c%3A/Users/gregu/Projetos/SSVEP/SSVEP/src/load.ipynb#X23sZmlsZQ%3D%3D?line=1'>2</a>\u001b[0m y \u001b[39m=\u001b[39m np\u001b[39m.\u001b[39marray(data[\u001b[39m'\u001b[39m\u001b[39mdata\u001b[39m\u001b[39m'\u001b[39m][\u001b[39m0\u001b[39m][\u001b[39m0\u001b[39m][\u001b[39m1\u001b[39m][\u001b[39m0\u001b[39m][\u001b[39m0\u001b[39m][\u001b[39m-\u001b[39m\u001b[39m6\u001b[39m])\n\u001b[0;32m      <a href='vscode-notebook-cell:/c%3A/Users/gregu/Projetos/SSVEP/SSVEP/src/load.ipynb#X23sZmlsZQ%3D%3D?line=3'>4</a>\u001b[0m \u001b[39mprint\u001b[39m(X\u001b[39m.\u001b[39mshape)\n",
      "\u001b[1;31mValueError\u001b[0m: no field of name data"
     ]
    }
   ],
   "source": [
    "X = np.array(data['data'][0][0][0])\n",
    "y = np.array(data['data'][0][0][1][0][0][-6])\n",
    "\n",
    "print(X.shape)\n",
    "print(y.shape)\n",
    "np.save(\"../dataset/beta/data_unificada.npy\", X)\n",
    "np.save(\"../dataset/beta/label_unificada.npy\", y)\n",
    "\n",
    "# 40 x 4"
   ]
  }
 ],
 "metadata": {
  "kernelspec": {
   "display_name": "Python 3 (ipykernel)",
   "language": "python",
   "name": "python3"
  },
  "language_info": {
   "codemirror_mode": {
    "name": "ipython",
    "version": 3
   },
   "file_extension": ".py",
   "mimetype": "text/x-python",
   "name": "python",
   "nbconvert_exporter": "python",
   "pygments_lexer": "ipython3",
   "version": "3.11.3"
  }
 },
 "nbformat": 4,
 "nbformat_minor": 4
}

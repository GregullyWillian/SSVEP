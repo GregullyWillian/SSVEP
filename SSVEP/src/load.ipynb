{
 "cells": [
  {
   "cell_type": "markdown",
   "metadata": {},
   "source": [
    "# Carregamento dos dados referentes ao artigo 'The AV SSVEP Dataset'"
   ]
  },
  {
   "cell_type": "code",
   "execution_count": 1,
   "metadata": {},
   "outputs": [],
   "source": [
    "# Imports\n",
    "from scipy.io import loadmat\n",
    "import numpy as np\n",
    "import math\n",
    "\n",
    "#Nota na hora de salvar os dados deixar tipo, 4, 21, 15360 "
   ]
  },
  {
   "cell_type": "markdown",
   "metadata": {},
   "source": [
    "## Carregamento dos dados Single"
   ]
  },
  {
   "cell_type": "code",
   "execution_count": 2,
   "metadata": {},
   "outputs": [],
   "source": [
    "# Pré carregamento\n",
    "\n",
    "avi_data = list()\n",
    "for i in range(1, 5):\n",
    "    avi_data.append(loadmat(f\"../dataset/sc/DataSet_A_2/single/Sub{i}_singletarget.mat\"))\n",
    "    \n",
    "#print(data[0]['Data'])\n",
    "#print(data[0]['Data'][0][0][-1])\n",
    "#print(data[0]['Data'][0][0][0].shape)\n",
    "#print(data[0]['Data'][0][0][-1].shape)"
   ]
  },
  {
   "cell_type": "code",
   "execution_count": 3,
   "metadata": {},
   "outputs": [
    {
     "name": "stdout",
     "output_type": "stream",
     "text": [
      "Divisão dos dados:\n",
      "(15360, 27)\n",
      "(15360, 26)\n",
      "(15360, 21)\n",
      "(15360, 21)\n",
      "\n",
      "Divisão dos rótulos (sequências):\n",
      "[[10.  10.  10.  12.  12.  12.   6.5  6.5  6.5  6.   6.   6.   6.   6.\n",
      "   6.   7.5  7.5  7.5  7.   7.   7.   8.2  8.2  8.2  9.3  9.3  9.3]]\n",
      "[[10.  10.  10.   6.5  6.5  6.5  6.5  6.   6.   6.   7.5  7.5  7.5  7.\n",
      "   7.   7.   7.   7.   7.   8.2  8.2  8.2  8.2  9.3  9.3  9.3]]\n",
      "[[10.  10.  10.   6.5  6.5  6.5  6.   6.   6.   7.5  7.5  7.5  7.   7.\n",
      "   7.   8.2  8.2  8.2  9.3  9.3  9.3]]\n",
      "[[10.  10.  10.   6.5  6.5  6.5  6.   6.   6.   7.5  7.5  7.5  7.   7.\n",
      "   7.   8.2  8.2  8.2  9.3  9.3  9.3]]\n"
     ]
    }
   ],
   "source": [
    "# extração direta dos dados\n",
    "\n",
    "X_data = [d['Data'][0][0][0] for d in avi_data]\n",
    "y_data = [d['Data'][0][0][1] for d in avi_data]\n",
    "\n",
    "print(\"Divisão dos dados:\")\n",
    "for data in X_data:\n",
    "    print(data.shape)\n",
    "\n",
    "print(\"\\nDivisão dos rótulos (sequências):\")\n",
    "for data in y_data:\n",
    "    print(data)"
   ]
  },
  {
   "cell_type": "code",
   "execution_count": 4,
   "metadata": {},
   "outputs": [],
   "source": [
    "\n",
    "dados = list()\n",
    "labels = list()\n",
    "\n",
    "dados.append(X_data[0][:, list(set(range(27)) - set([3, 4, 5, 12, 13, 14]))])\n",
    "labels.append(y_data[0][:, list(set(range(27)) - set([3, 4, 5, 12, 13, 14]))])\n",
    "        \n",
    "dados.append(X_data[1][:, list(set(range(26)) - set([6, 16, 17, 18, 22]))])\n",
    "labels.append(y_data[1][:, list(set(range(26)) - set([6, 16, 17, 18, 22]))])\n",
    "        \n",
    "dados.append(X_data[2])\n",
    "labels.append(y_data[2])\n",
    "        \n",
    "dados.append(X_data[3])\n",
    "labels.append(y_data[3])\n",
    "\n",
    "data = np.array(dados)\n",
    "label = np.array(labels)\n",
    "np.save(\"../dataset/sc/DataSet_A_2/single/data_unificada.npy\", data)\n",
    "np.save(\"../dataset/sc/DataSet_A_2/single/label_unificada.npy\", label)"
   ]
  },
  {
   "cell_type": "markdown",
   "metadata": {},
   "source": [
    "## Carregamento dos dados multi\n"
   ]
  },
  {
   "cell_type": "code",
   "execution_count": 5,
   "metadata": {},
   "outputs": [],
   "source": [
    "# Pré carregamento\n",
    "\n",
    "avi_data = list()\n",
    "j = 1\n",
    "k = 1\n",
    "for i in range(1, 11):\n",
    "    if j == 3:\n",
    "        j = 1\n",
    "    avi_data.append(loadmat(f\"../dataset/sc/DataSet_A_2/multi/Sub{math.ceil(i / 2)}_{j}_multitarget.mat\"))\n",
    "    j += 1"
   ]
  },
  {
   "cell_type": "code",
   "execution_count": 6,
   "metadata": {},
   "outputs": [
    {
     "name": "stdout",
     "output_type": "stream",
     "text": [
      "Divisão dos dados:\n",
      "(10, 8192)\n",
      "(10, 8192)\n",
      "(10, 8192)\n",
      "(10, 8192)\n",
      "(10, 8192)\n",
      "(10, 8192)\n",
      "(10, 8192)\n",
      "(10, 8192)\n",
      "(10, 8192)\n",
      "(10, 8192)\n",
      "\n",
      "Divisão dos rótulos (sequências):\n",
      "[7.5 8.2 7.  8.2 6.  7.5 6.  6.  8.2 8.2]\n",
      "[9.3 6.  6.  8.2 6.  6.5 7.5 7.  6.  6. ]\n",
      "[7.5 8.2 7.  8.2 6.  7.5 6.  6.  8.2 8.2]\n",
      "[9.3 6.  6.  8.2 6.  6.5 7.5 7.  6.  6. ]\n",
      "[7.5 8.2 7.  8.2 6.  7.5 6.  6.  8.2 8.2]\n",
      "[9.3 6.  6.  8.2 6.  6.5 7.5 7.  6.  6. ]\n",
      "[7.5 8.2 7.  8.2 6.  7.5 6.  6.  8.2 8.2]\n",
      "[9.3 6.  6.  8.2 6.  6.5 7.5 7.  6.  6. ]\n",
      "[7.5 8.2 7.  8.2 6.  7.5 6.  6.  8.2 8.2]\n",
      "[9.3 6.  6.  8.2 6.  6.5 7.5 7.  6.  6. ]\n"
     ]
    }
   ],
   "source": [
    "# extração direta dos dados\n",
    "# 8192 / 512 == 16 segundos em cada frequencia\n",
    "#Transpor os dados para que fique (10, 8192)\n",
    "X_data = [d['Data'][0][0][7].T for d in avi_data]\n",
    "y_data = [d['Data'][0][0][8][0] for d in avi_data]\n",
    "\n",
    "print(\"Divisão dos dados:\")\n",
    "for data in X_data:\n",
    "    print(data.shape)\n",
    "\n",
    "print(\"\\nDivisão dos rótulos (sequências):\")\n",
    "for data in y_data:\n",
    "    print(data)"
   ]
  },
  {
   "cell_type": "code",
   "execution_count": 7,
   "metadata": {},
   "outputs": [],
   "source": [
    "dados = list()\n",
    "labels = list()\n",
    "\n",
    "for i in range(10):\n",
    "    dados.append(X_data[i])\n",
    "    labels.append(y_data[i])\n",
    "\n",
    "data = np.array(dados)\n",
    "label = np.array(labels)\n",
    "\n",
    "np.save(\"../dataset/sc/DataSet_A_2/multi/data_unificada.npy\", data)\n",
    "np.save(\"../dataset/sc/DataSet_A_2/multi/label_unificada.npy\", label)"
   ]
  },
  {
   "cell_type": "markdown",
   "metadata": {},
   "source": [
    "# Carregamento do DataSet Beta (sujeito 12)"
   ]
  },
  {
   "cell_type": "code",
   "execution_count": null,
   "metadata": {},
   "outputs": [],
   "source": [
    "data = loadmat(\"../dataset/beta/S12.mat\")"
   ]
  },
  {
   "cell_type": "code",
   "execution_count": null,
   "metadata": {},
   "outputs": [],
   "source": [
    "data"
   ]
  }
 ],
 "metadata": {
  "kernelspec": {
   "display_name": "Python 3 (ipykernel)",
   "language": "python",
   "name": "python3"
  },
  "language_info": {
   "codemirror_mode": {
    "name": "ipython",
    "version": 3
   },
   "file_extension": ".py",
   "mimetype": "text/x-python",
   "name": "python",
   "nbconvert_exporter": "python",
   "pygments_lexer": "ipython3",
   "version": "3.11.3"
  }
 },
 "nbformat": 4,
 "nbformat_minor": 4
}
